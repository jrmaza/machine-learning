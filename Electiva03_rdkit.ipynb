{
  "nbformat": 4,
  "nbformat_minor": 0,
  "metadata": {
    "colab": {
      "provenance": [],
      "authorship_tag": "ABX9TyPMl11ma6mmGLG6uMoUTiqh",
      "include_colab_link": true
    },
    "kernelspec": {
      "name": "python3",
      "display_name": "Python 3"
    },
    "language_info": {
      "name": "python"
    }
  },
  "cells": [
    {
      "cell_type": "markdown",
      "metadata": {
        "id": "view-in-github",
        "colab_type": "text"
      },
      "source": [
        "<a href=\"https://colab.research.google.com/github/jrmaza/machine-learning/blob/main/Electiva03_rdkit.ipynb\" target=\"_parent\"><img src=\"https://colab.research.google.com/assets/colab-badge.svg\" alt=\"Open In Colab\"/></a>"
      ]
    },
    {
      "cell_type": "markdown",
      "source": [
        "# **Módulo de predicción de solubilidad utilizando [RDKit](https://www.rdkit.org/)**\n",
        "\n",
        "## [RDKit](https://www.rdkit.org/)\n",
        "La colección de librerías y módulos para aplicaciones de bio/quimioinformática y aprendizaje automatizado en python es RDKit. De momento, la instalación debe realizarse por medio del gestor anaconda"
      ],
      "metadata": {
        "id": "MeaiOnspqfKR"
      }
    },
    {
      "cell_type": "markdown",
      "source": [
        "### **1. Instalación de RDKit a través de conda**\n",
        "(~1min)"
      ],
      "metadata": {
        "id": "adSLROT0tDbO"
      }
    },
    {
      "cell_type": "code",
      "source": [
        "! wget https://repo.anaconda.com/miniconda/Miniconda3-py37_4.8.2-Linux-x86_64.sh\n",
        "! chmod +x Miniconda3-py37_4.8.2-Linux-x86_64.sh\n",
        "! bash ./Miniconda3-py37_4.8.2-Linux-x86_64.sh -b -f -p /usr/local\n",
        "! conda install -c rdkit rdkit -y\n",
        "import sys\n",
        "sys.path.append('/usr/local/lib/python3.7/site-packages/')"
      ],
      "metadata": {
        "id": "YXw_NvD4swxP"
      },
      "execution_count": null,
      "outputs": []
    },
    {
      "cell_type": "markdown",
      "source": [
        "### **2. Conjunto de datos de solubilidad de Delaney**\n",
        "En 2004, el autor John S. Delaney publicó una investigación para la estimación de la solubilidad acuosa de sustancias a partir de la información estructural de las moléculas y comparar los resultados con los valores experimentales\n",
        "![esol](https://raw.githubusercontent.com/jrmaza/machine-learning/main/ESOL_paper.png)\n",
        "\n",
        "En esta publicación, Delaney se basó en 7 parámetros calculados a partir de la estructura molecular:\n",
        "1. Constante de partición octanol agua, $clogP$\n",
        "2. Peso molecular total, $MWT$\n",
        "3. Número de enlaces con la capacidad de rotar $RB$\n",
        "4. Proporción de átomos aromáticos en las moléculas $AP$\n",
        "5. Proporción de átomos diferentes al carbono $nonCP$\n",
        "6. Número de átomos donadores de enlaces de hidrógenos (H-bond donor) $DN$\n",
        "7. Número de átomos aceptores de enlaces dee hidrógenos (H-bond acceptor) $AC$\n",
        "\n",
        "Finalmente, obtubo la siguiente ecuación multiparamétrica para estimar los valores de solubilidad\n",
        "\\begin{equation}\n",
        "Log(S_w) = 0.16 - 0.63clogP - 0.0062MWT + 0.066RB - 0.74AP\n",
        "\\end{equation} \n",
        "\n",
        "El conjunto de datos organizados en un archivo csv es proporcionado como [material suplementario](https://pubs.acs.org/doi/suppl/10.1021/ci034243x/suppl_file/ci034243xsi20040112_053635.txt) en la página de la [publicación](https://pubs.acs.org/doi/10.1021/ci034243x)\n",
        "\n"
      ],
      "metadata": {
        "id": "wbDIvfpPtqY0"
      }
    },
    {
      "cell_type": "markdown",
      "source": [
        "### **2.1 Obtener el conjunto de datos usando pandas**\n",
        "Convenientemente, ubiqué en mi [github](https://github.com/jrmaza/machine-learning) el archivo [csv](https://raw.githubusercontent.com/jrmaza/machine-learning/main/delaney_solubility.csv) para poder utilizarlo con ```pandas```\n",
        "\n"
      ],
      "metadata": {
        "id": "3TC6Mlvlupbi"
      }
    },
    {
      "cell_type": "code",
      "source": [
        "import pandas as pd #importamos librería pandas como pd\n",
        "database_url = 'https://raw.githubusercontent.com/jrmaza/machine-learning/main/delaney_solubility.csv' #especificamos la URL de donde obtendremos los datos\n",
        "d_sol = pd.read_csv(database_url) #le indicamos a pandas que lea el csv de la url y lo almacene en un dataframe que llamaremos d_sol (por delaney_solubility)\n",
        "d_sol[:5] #mostraremos las 5 primeras entradas del dataframe\n",
        "     "
      ],
      "metadata": {
        "id": "xTlXi0eUvDdc"
      },
      "execution_count": null,
      "outputs": []
    },
    {
      "cell_type": "markdown",
      "source": [
        "### **2.2 Información de las columnas del DataFrame**\n",
        "El comando ```.colums``` permite apreciar la información de las columnas que conforman nuestro ```dataframe```, estos valores son referenciados por comillas simples y separados por comas. <font color='red'>Notemos que la columna **SMILES** contiene el la codificación SMILES de la molécula.</font>   \n"
      ],
      "metadata": {
        "id": "N6kFjwLQwaFI"
      }
    },
    {
      "cell_type": "code",
      "source": [
        "d_sol.columns"
      ],
      "metadata": {
        "id": "hrLScH6vwTKw"
      },
      "execution_count": null,
      "outputs": []
    },
    {
      "cell_type": "markdown",
      "source": [
        "Así, tenemos cuatro columnas:\n",
        "* ```Compound ID```\n",
        "* ```measured log(solubility:mol/L)```\n",
        "* ```ESOL predicted log(solubility:mol/L)```\n",
        "* ```SMILES```\n"
      ],
      "metadata": {
        "id": "71tiPwL3w2xX"
      }
    },
    {
      "cell_type": "markdown",
      "source": [
        "### **2.3 Renombrar las columnas**\n",
        "Para aligerar el tratamiento de datos, vamos a renombrar con la función ```.rename(columns = {'nombre antiguo':'nombre nuevo'}, inplace=True)```  las columnas por valores sin espacios y más sencillos:\n",
        "* ```Compound ID -> CID```\n",
        "* ```measured log(solubility:mol/L) -> MSOL```\n",
        "* ```ESOL predicted log(solubility:mol/L) -> ESOL```\n",
        "* ```SMILES = SMILES```\n",
        "\n",
        "\n"
      ],
      "metadata": {
        "id": "36VKRLxDxPqm"
      }
    },
    {
      "cell_type": "code",
      "source": [
        "d_sol.rename(columns = {'Compound ID':'CID'}, inplace = True)\n",
        "d_sol.rename(columns = {'measured log(solubility:mol/L)':'MSOL'}, inplace = True)\n",
        "d_sol.rename(columns = {'ESOL predicted log(solubility:mol/L)':'ESOL'}, inplace = True)\n",
        "d_sol"
      ],
      "metadata": {
        "id": "ZkJTcbvoxycW"
      },
      "execution_count": null,
      "outputs": []
    },
    {
      "cell_type": "markdown",
      "source": [
        "### **3. RDKit y descriptores moleculares**\n",
        "Los descriptores moleculares pueden ser definidos como representaciones matemáticas de las propiedades de las moléculas, son generados por algoritmos. Los valores numéricos de un descriptor molecular, son utilizados para describir cuantitativamente las propiedades físicas y químicas de las moléculas. Un ejemplo de un descriptor molecular es el logaritmo de la constante de partición octano/agua: logP, que es una representación cuantitativa de la lipofilicidad de una sustancia, es medido en condiciones experimentales como la repartición de las sustancias en diferentes fases (acuosa y n-octanol)\n",
        "\n",
        "Con RDKit se pueden calcular descriptores, empleando el módulo ```Descriptors```\n",
        "\n",
        "Los descriptores que podemos calcular con RDKit son:\n",
        "\n",
        "| Descriptor | Chem.Descriptor | Sintáxis | Medida | \n",
        "| --- | --- | --- | --- |\n",
        "| Peso molecular | MolWt | Descriptors.MolWt(mol) | Arroja el peso molecular con 3 cifras decimales |\n",
        "| Peso molecular exacto | ExactMolWt | Descriptors.ExactMolWt(mol) | Peso molecular con 8 cifas decimales |\n",
        "| Conectividad de Balaban | BalabanJ | Descriptors.BalabanJ(mol) | Índice Topológico de conectividad molecular |\n",
        "| Complejidad | BertzCT | Descriptors.BertzCT(mol) | Complejidad de los enlaces y heteroátomos |\n",
        "| Hibridación SP3 | FractionCSP3 | Descriptors.FractionCSP3(mol) | Arroja la fracción de átomos de carbono SP3 hibridados |\n",
        "| Número de Átomos Pesados | HeavyAtomCount | Descriptors.HeavyAtomCount(mol) | Indica el número de átomos pesados diferentes al hidrógeno |\n",
        "| Peso molecular  de Átomos Pesados | HeavyAtomMolWt | Descriptors.HeavyAtomMolWt(mol) | Promedio del peso molecular, ignorando hidrógenos |\n",
        "| Labute | LabuteASA | Descriptors.LabuteASA(mol) | Área superficial aproximada por la ecuación de Labute |\n",
        "| LogP | MolLogP | Descriptors.MolLogP(mol) | Coeficiente de partición de Wildman-Crippen |\n",
        "| MR | MolMR | Descriptors.MolMR(mol) | Valor de refractividad molar, según Wildman-Crippen |\n",
        "| Cargas Atómicas | MaxPartialCharge | Descriptors.MaxPartialCharge(mol) | Valor máximo de carga parcial |\n",
        "|  | MinPartialCharge | Descriptors.MinPartialCharge(mol) | Valor mínimo de carga parcial |\n",
        "| Conteo de átomos | NOCount | Descriptors.NOCount(mol) | Número de átomos de Nitrógeno y Oxígeno |\n",
        "| Estructuras Alifáticas | NumAliphaticCarbocycles | Descriptors.NumAliphaticCarbocycles(mol) | Indica el número de carbociclos alifáticos  |\n",
        "|  | NumAliphaticHeterocycles | Descriptors.NumAliphaticHeterocycles(mol) | Indica el número de heterociclos alifáticos |\n",
        "|  | NumAliphaticRings | Descriptors.NumAliphaticRings(mol) | Número de anillos alifáticos |\n",
        "| Estructuras Aromáticas | NumAromaticCarbocycles | Descriptors.NumAromaticCarbocycles(mol) | Indica el número de carbociclos aromáticos  |\n",
        "|  | NumAromaticHeterocycles | Descriptors.NumAromaticHeterocycles(mol) | Indica el número de heterociclos aromáticos |\n",
        "|  | NumAromaticRings | Descriptors.NumAromaticRings(mol) | Número de anillos aromáticos |\n",
        "| Saturación | NumSaturatedCarbocycles | Descriptors.NumSaturatedCarbocycles(mol) | Número de carbociclos saturados  |\n",
        "|  | NumSaturatedHeterocycles | Descriptors.NumSaturatedHeterocycles(mol) | Indica el número de heterociclos saturados |\n",
        "|  | NumSaturatedRings | Descriptors.NumSaturatedRings(mol) | Número de anillos saturados |\n",
        "| Aceptores de hidrógeno | NumHAcceptors | Descriptors.NumHAcceptors(mol) | Número de átomos aceptores de hidrógeno |\n",
        "| Donadores de hidrógeno | NumHDonors | Descriptors.NumHDonors(mol) | Número de átomos donadores de hidrógeno |\n",
        "| Heteroátomos | NumHeteroatoms | Descriptors.NumHeteroatoms(mol) | Número de átomos diferentes al Carbono e hidrógeno |\n",
        "| Radicales | NumRadicalElectrons | Descriptors.NumRadicalElectrons(mol) | Número de electrones radicalarios, no indica el spin |\n",
        "| Enlaces Rotables | NumRotatableBonds | Descriptors.NumRotatableBonds(mol) | Número de enlaces rotables |\n",
        "| Electrones de Valencia | NumValenceElectrons | Descriptors.NumValenceElectrons(mol) | Número de electrones de Valencia |\n",
        "| Anillos | RingCount | Descriptors.RingCount(mol) | Número de anillos |\n",
        "| Área superficial | TPSA | Descriptors.TPSA(mol) | Área superficial polar |"
      ],
      "metadata": {
        "id": "Q7MSbA4bysmz"
      }
    },
    {
      "cell_type": "markdown",
      "source": [
        "### **3.1 Cargar librerías y paquetes de RDKit**\n"
      ],
      "metadata": {
        "id": "LYWA5jXV9N4u"
      }
    },
    {
      "cell_type": "code",
      "source": [
        "import numpy as np #importamos la librería numérica numpy\n",
        "import rdkit #import all RDKit\n",
        "from rdkit import Chem # importamos el módulo Chem (chemistry) de RDKit\n",
        "from rdkit.Chem import Descriptors # importamos el módulo Descriptors para el cálculo de descriptores moleculares\n",
        "from rdkit.Chem import Draw #importamos el módulo Draw visualizar moléculas en 2D\n",
        "from rdkit.Chem.Draw import IPythonConsole #permitimos a Draw insertar imágenes en el Colab\n",
        "from rdkit.Chem import AllChem"
      ],
      "metadata": {
        "id": "wYT8LAhV2tQI"
      },
      "execution_count": null,
      "outputs": []
    },
    {
      "cell_type": "markdown",
      "source": [
        "### **3.2 Obtener los SMILES del DatFrame**\n",
        "Extraeremos sólamente la columna de SMILES del dataframe con una iteración ```for```\n"
      ],
      "metadata": {
        "id": "v_3DrBo_8t1k"
      }
    },
    {
      "cell_type": "code",
      "source": [
        "smiles_list = [Chem.MolFromSmiles(element) for element in d_sol.SMILES]\n",
        "print(len(smiles_list))"
      ],
      "metadata": {
        "id": "ku1KM7Sg9Ez1"
      },
      "execution_count": null,
      "outputs": []
    },
    {
      "cell_type": "markdown",
      "source": [
        "tenemos 1144 objetos que corresponden a las entradas de la columna de nombre SMILES del DataFrame ```d_sol``` que creamos en la sección 2.1"
      ],
      "metadata": {
        "id": "Qo5xozJo_h3q"
      }
    },
    {
      "cell_type": "markdown",
      "source": [
        "### **3.3 Cálculo de descriptores moleculares en RDKit**\n",
        "\n",
        "Ahora, utilizaremos RDKit y los módulos que importamos para saber cómo se calculan algunos descriptores moleculares, que utilizó Delaney para producir su modelo multiparamétrico de predicción de la solubilidad. Tomaremos una molécula al azar de la lista de smiles creada en el paso anterior."
      ],
      "metadata": {
        "id": "nFPXpEQkAGWY"
      }
    },
    {
      "cell_type": "code",
      "source": [
        "random_mol = smiles_list[411]\n",
        "random_mol"
      ],
      "metadata": {
        "id": "-ZeZ5BR8AH2Q"
      },
      "execution_count": null,
      "outputs": []
    },
    {
      "cell_type": "markdown",
      "source": [
        "#### **3.3.1 El número total de átomos de una molécula**\n",
        "El sufijo ```GetNumAtoms()``` devuelte el número total de átomos de la molécula\n",
        "\n",
        "\n"
      ],
      "metadata": {
        "id": "iDEb4wx7Aits"
      }
    },
    {
      "cell_type": "code",
      "source": [
        "random_mol.GetNumAtoms()"
      ],
      "metadata": {
        "id": "LiB9sSG6-Pqc"
      },
      "execution_count": null,
      "outputs": []
    },
    {
      "cell_type": "markdown",
      "source": [
        "#### **3.3.2 El número total de carbonos en una molécula**\n",
        "Ahora crearemos un patrón (pattern) utilizando la notación ```SMARTS``` para identificar cuántos átomos en la molécula coinciden con este patrón."
      ],
      "metadata": {
        "id": "pOMNTTSGBGB7"
      }
    },
    {
      "cell_type": "code",
      "source": [
        "patron = Chem.MolFromSmarts(\"[C,c]\") #patrón que identifica carbonos no aromáticos \"C\" y aromáticos \"c\"\n",
        "numero_de_c = random_mol.GetSubstructMatches(patron)\n",
        "print(len(numero_de_c))"
      ],
      "metadata": {
        "id": "mCOhxezK4sNl"
      },
      "execution_count": null,
      "outputs": []
    },
    {
      "cell_type": "markdown",
      "source": [
        "#### **3.3.3 Peso molecular total**\n",
        "La sub-rutina ```Descriptors.MolWt(**arg)``` determina el peso molecular total exacto, con muchas cifras decimales de nuestra molécula ranndom"
      ],
      "metadata": {
        "id": "IE7XX5CCCQau"
      }
    },
    {
      "cell_type": "code",
      "source": [
        "pm = Descriptors.MolWt(random_mol)\n",
        "pm"
      ],
      "metadata": {
        "id": "cNf9pnO_CqFA"
      },
      "execution_count": null,
      "outputs": []
    },
    {
      "cell_type": "markdown",
      "source": [
        "#### **3.3.4 Constante de partición O/W**\n",
        "La sub-rutina ```Descriptors.MolLogP(**arg)``` determina el valor teórico de la constante de partición octanol-agua"
      ],
      "metadata": {
        "id": "mIOm_VAsDHcp"
      }
    },
    {
      "cell_type": "code",
      "source": [
        "clogp = Descriptors.MolLogP(random_mol)\n",
        "clogp"
      ],
      "metadata": {
        "id": "dWRaOAyJDjDV"
      },
      "execution_count": null,
      "outputs": []
    },
    {
      "cell_type": "markdown",
      "source": [
        "#### **3.3.5 Enlaces rotables**\n",
        "La sub-rutina ```Descriptors.NumRotatableBonds(**arg)``` determina si existen y el número de enlaces con la capacidad de rotar que tiene la molécula"
      ],
      "metadata": {
        "id": "RFl4TbebDsyF"
      }
    },
    {
      "cell_type": "code",
      "source": [
        "rotables = Descriptors.NumRotatableBonds(random_mol)\n",
        "rotables"
      ],
      "metadata": {
        "id": "pbJa0zeREG77"
      },
      "execution_count": null,
      "outputs": []
    },
    {
      "cell_type": "markdown",
      "source": [
        "#### **3.3.6 Átomos aceptores/donadores de enlaces de hidrógeno**\n",
        "Las sub-rutinas ```Descriptors.NumHAcceptors(**arg)``` y  ```Descriptors.NumHDonors(**arg)``` determinan los átomos que poseen la capacidad de aceptar y/o donar enlaces de hidrógeno"
      ],
      "metadata": {
        "id": "gUM3aUOqETUE"
      }
    },
    {
      "cell_type": "code",
      "source": [
        "donor = Descriptors.NumHDonors(random_mol)\n",
        "aceptor = Descriptors.NumHAcceptors(random_mol)\n",
        "print(donor, aceptor)"
      ],
      "metadata": {
        "id": "dLrrCST9E4HJ"
      },
      "execution_count": null,
      "outputs": []
    },
    {
      "cell_type": "markdown",
      "source": [
        "#### **3.3.7 Proporción de átomos aromáticos y no carbonoides**\n",
        "Crearemos dos funciones que nos asistirán a determinar las proporciones aromáticas recorriiendo cada átomo de la molécula y por cada acierto incrementa un contador en 1. Finalmente, divide el número átomos aromáticos entre el número total de átomos de la molécula, resultando la proporción de átomos aromáticos. La proporción de átomos no carbonoides "
      ],
      "metadata": {
        "id": "RFfsRBbjFWL7"
      }
    },
    {
      "cell_type": "code",
      "source": [
        "def ProporcionAromatica(m):\n",
        "  atomos_aromaticos = [m.GetAtomWithIdx(i).GetIsAromatic() for i in range(m.GetNumAtoms())]\n",
        "  aa_count = []\n",
        "  for i in atomos_aromaticos:\n",
        "    if i==True:\n",
        "      aa_count.append(1)\n",
        "  TotAtomAromatic = sum(aa_count)\n",
        "  TotAtomMol = Descriptors.HeavyAtomCount(m)\n",
        "  PropArom = TotAtomAromatic/TotAtomMol\n",
        "  return PropArom\n",
        "\n",
        "def PropNonCAtomos(m):\n",
        "  pattern = Chem.MolFromSmarts(\"[C,c]\")\n",
        "  CAtoms = m.GetSubstructMatches(pattern)\n",
        "  TotAtomMol = Descriptors.HeavyAtomCount(m)\n",
        "  NonCAtoms = TotAtomMol - len(CAtoms)\n",
        "  PropNCAt = NonCAtoms/TotAtomMol\n",
        "  return PropNCAt"
      ],
      "metadata": {
        "id": "O4XXyjd7FlO-"
      },
      "execution_count": null,
      "outputs": []
    },
    {
      "cell_type": "markdown",
      "source": [
        "Probaremos a continuación las funciones que acabamos de crear"
      ],
      "metadata": {
        "id": "Ji7CPw2yKPN3"
      }
    },
    {
      "cell_type": "code",
      "source": [
        "print(\"Proporción de átomos aromáticos: \",ProporcionAromatica(random_mol))\n",
        "print(\"Proporción de átomos no carbonoides: \",PropNonCAtomos(random_mol))"
      ],
      "metadata": {
        "id": "ZIlBqJUqKSw0"
      },
      "execution_count": null,
      "outputs": []
    },
    {
      "cell_type": "markdown",
      "source": [
        "#### **3.3.8 Función General para el Cálculo de todos los descriptores deseados**\n",
        "La siguiente función recibe una serie de SMILES y realiza los cálculos de los descriptores moleculares anteriormente descritos, finalmente arroja una estructura ```DataFrame``` con los datos calculados\n"
      ],
      "metadata": {
        "id": "jzigmglYKJ2h"
      }
    },
    {
      "cell_type": "code",
      "source": [
        "def generar_descriptores(smiles, verbose=False):\n",
        "\n",
        "    moldata= []\n",
        "    for elem in smiles:\n",
        "        mol=Chem.MolFromSmiles(elem) \n",
        "        moldata.append(mol)\n",
        "       \n",
        "    baseData= np.arange(1,1)\n",
        "    i=0  \n",
        "    for mol in moldata:        \n",
        "       \n",
        "        desc_MolLogP = Descriptors.MolLogP(mol)\n",
        "        desc_MolWt = Descriptors.MolWt(mol)\n",
        "        desc_NumRotatableBonds = Descriptors.NumRotatableBonds(mol)\n",
        "        desc_AromaticProportion = ProporcionAromatica(mol)\n",
        "        desc_NonCarbonoidProportion = PropNonCAtomos(mol)\n",
        "        desc_NumDonors = Descriptors.NumHDonors(mol) \n",
        "        desc_NumAceptors = Descriptors.NumHAcceptors(mol)\n",
        "\n",
        "        row = np.array([desc_MolLogP,\n",
        "                        desc_MolWt,\n",
        "                        desc_NumRotatableBonds,\n",
        "                        desc_AromaticProportion,\n",
        "                        desc_NonCarbonoidProportion,\n",
        "                        desc_NumDonors,\n",
        "                        desc_NumAceptors])   \n",
        "    \n",
        "        if(i==0):\n",
        "            baseData=row\n",
        "        else:\n",
        "            baseData=np.vstack([baseData, row])\n",
        "        i=i+1      \n",
        "    \n",
        "    columnNames=[\"logP\",\"PMolec\",\"Rotable\",\"PrAromatic\",\"PrNonC\",\"Donor\",\"Acept\"]   \n",
        "    descriptors = pd.DataFrame(data=baseData,columns=columnNames)\n",
        "    \n",
        "    return descriptors"
      ],
      "metadata": {
        "id": "mQBs2aR_KLYv"
      },
      "execution_count": null,
      "outputs": []
    },
    {
      "cell_type": "markdown",
      "source": [
        "## **4. Preparación de los datos para Aprendizaje automatizado**\n",
        "A continuación realizaremos una serie de operaciones que nos permitirán organizar nuestros datos para introducirlos en algoritmos de aprendizaje automatizade en ```python```"
      ],
      "metadata": {
        "id": "FPjjRU0xMdfk"
      }
    },
    {
      "cell_type": "markdown",
      "source": [
        "### **4.1 ```DatFrame``` con los descriptores**\n",
        "Crearemos ahora un ```DataFrame``` con los descriptores escritos dentro de la función. Esta será nueestra serie de datos que utilizaremos para incorporarla en ```pycaret``` y realizar aprendizaje automatizado con nuestros datos."
      ],
      "metadata": {
        "id": "2QlEO8N6OAYR"
      }
    },
    {
      "cell_type": "code",
      "source": [
        "X = generar_descriptores(d_sol.SMILES)\n",
        "X"
      ],
      "metadata": {
        "id": "1KVXQ9fwM_uC"
      },
      "execution_count": null,
      "outputs": []
    },
    {
      "cell_type": "markdown",
      "source": [
        "### **4.2 Valores de solubilidad a predecir (calculados)**\n",
        "De los datos originales de Delaney, extraeremos la columna con los valores de solubilidad experimentales o medidos ```MSOL```\n",
        "\n"
      ],
      "metadata": {
        "id": "R_aMwAi3OMma"
      }
    },
    {
      "cell_type": "code",
      "source": [
        "Y = d_sol.MSOL\n",
        "Y"
      ],
      "metadata": {
        "id": "JCXbZMk5Oevn"
      },
      "execution_count": null,
      "outputs": []
    },
    {
      "cell_type": "markdown",
      "source": [
        "### **4.3 Verificar el tamaño de las matrices**\n",
        "Debemos tener en cuenta que el tamaño de las matrices que vamos a utilizar para entrenar el modelo (los datos que están en las 7 columnas) tenga el mismo tamaño de los valores a predecir"
      ],
      "metadata": {
        "id": "dSAGY7g6OqQN"
      }
    },
    {
      "cell_type": "code",
      "source": [
        "print(\"El tamaño de los datos de entrada es:\", X.size/len(X.axes[1]))\n",
        "print(\"El número de columnas del DataFrame es:\", len(X.axes[1]))\n",
        "print(\"Los nombres de las columnas \",X.columns)\n",
        "print(\"El tamaño de los datos de predicción es:\", float(Y.size))\n",
        "if X.size/len(X.axes[1]) == float(Y.size):\n",
        "  print(\"La estructura de datos es correcta, proceder\") \n",
        "else:\n",
        "  print(\"Estructura de datos incorrecta, revisar\") "
      ],
      "metadata": {
        "id": "rqqnk4qpO7kT"
      },
      "execution_count": null,
      "outputs": []
    },
    {
      "cell_type": "markdown",
      "source": [
        "### **4.4 Unimos las dos matrices en un solo ```DataFrame```**\n",
        "Para ello utilizamos el modulo ```concat```"
      ],
      "metadata": {
        "id": "QipXas3ARdQI"
      }
    },
    {
      "cell_type": "code",
      "source": [
        "datos = pd.concat([X,Y], axis=1)\n",
        "datos"
      ],
      "metadata": {
        "id": "hYNsm0f4RsvL"
      },
      "execution_count": null,
      "outputs": []
    },
    {
      "cell_type": "markdown",
      "source": [
        "### **4.5 Escribir un csv con los datos pre-procesados**\n",
        "Pandas permite guardar  ```concat```"
      ],
      "metadata": {
        "id": "sT3SkYMmSOwp"
      }
    },
    {
      "cell_type": "code",
      "source": [
        "datos.to_csv('delaney_descriptores.csv', index=False, encoding='utf-8')"
      ],
      "metadata": {
        "id": "RuK4nBV5SjVJ"
      },
      "execution_count": null,
      "outputs": []
    }
  ]
}