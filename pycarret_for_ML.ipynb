{
  "nbformat": 4,
  "nbformat_minor": 0,
  "metadata": {
    "colab": {
      "provenance": [],
      "authorship_tag": "ABX9TyMs//9GLznv8V01f2kFxu34",
      "include_colab_link": true
    },
    "kernelspec": {
      "name": "python3",
      "display_name": "Python 3"
    },
    "language_info": {
      "name": "python"
    }
  },
  "cells": [
    {
      "cell_type": "markdown",
      "metadata": {
        "id": "view-in-github",
        "colab_type": "text"
      },
      "source": [
        "<a href=\"https://colab.research.google.com/github/jrmaza/machine-learning/blob/main/pycarret_for_ML.ipynb\" target=\"_parent\"><img src=\"https://colab.research.google.com/assets/colab-badge.svg\" alt=\"Open In Colab\"/></a>"
      ]
    },
    {
      "cell_type": "code",
      "execution_count": null,
      "metadata": {
        "id": "mtX95IrcqxUu"
      },
      "outputs": [],
      "source": [
        "pip install --pre pycaret"
      ]
    },
    {
      "cell_type": "code",
      "source": [
        "from pycaret.utils import version\n",
        "version()"
      ],
      "metadata": {
        "id": "qzG1EnIirDom"
      },
      "execution_count": null,
      "outputs": []
    },
    {
      "cell_type": "code",
      "source": [
        "from pycaret.datasets import get_data\n",
        "data = get_data('country-data')"
      ],
      "metadata": {
        "id": "KKJgKhJArE4q"
      },
      "execution_count": null,
      "outputs": []
    },
    {
      "cell_type": "code",
      "source": [
        "from pycaret.clustering import *\n",
        "clu1 = setup(data, normalize=True, session_id=786,\n",
        "             ignore_features = ['country'])"
      ],
      "metadata": {
        "id": "88vMAyXKrRTi"
      },
      "execution_count": null,
      "outputs": []
    },
    {
      "cell_type": "code",
      "source": [
        "kmeans = create_model('kmeans')"
      ],
      "metadata": {
        "id": "4ibY3rzvrWi_"
      },
      "execution_count": null,
      "outputs": []
    },
    {
      "cell_type": "code",
      "source": [
        "hclust = create_model('hclust')"
      ],
      "metadata": {
        "id": "9JGQRrYcraZX"
      },
      "execution_count": null,
      "outputs": []
    },
    {
      "cell_type": "code",
      "source": [
        "plot_model(kmeans, label=True)"
      ],
      "metadata": {
        "id": "bsalIZCYrdzo"
      },
      "execution_count": null,
      "outputs": []
    },
    {
      "cell_type": "code",
      "source": [
        "plot_model(hclust, label=True)"
      ],
      "metadata": {
        "id": "gsAFMw4QrkmJ"
      },
      "execution_count": null,
      "outputs": []
    },
    {
      "cell_type": "code",
      "source": [
        "plot_model(kmeans, plot = 'tsne', label=True)"
      ],
      "metadata": {
        "id": "0ncSucIArnVh"
      },
      "execution_count": null,
      "outputs": []
    },
    {
      "cell_type": "code",
      "source": [
        "plot_model(kmeans, plot = 'elbow')"
      ],
      "metadata": {
        "id": "w18EXpJ0r6BJ"
      },
      "execution_count": null,
      "outputs": []
    },
    {
      "cell_type": "code",
      "source": [
        "import pandas as pd\n",
        "from pycaret.classification import *"
      ],
      "metadata": {
        "id": "pTTWy52SsFaI"
      },
      "execution_count": 12,
      "outputs": []
    },
    {
      "cell_type": "code",
      "source": [
        "pokeurl = 'https://raw.githubusercontent.com/jrmaza/datasets/main/pokemon.csv'"
      ],
      "metadata": {
        "id": "L2TF3KHVsQFB"
      },
      "execution_count": 13,
      "outputs": []
    },
    {
      "cell_type": "code",
      "source": [
        "poke = pd.read_csv(pokeurl)\n",
        "pokemondf = poke.drop(['#', 'Name', 'Type 1', 'Type 2', 'Total', 'Generation'], axis=1)"
      ],
      "metadata": {
        "id": "waA-9fsisn3f"
      },
      "execution_count": 14,
      "outputs": []
    },
    {
      "cell_type": "code",
      "source": [
        "model = setup(pokemondf, target='Legendary')"
      ],
      "metadata": {
        "id": "7vH9JiS0sq2Q"
      },
      "execution_count": null,
      "outputs": []
    },
    {
      "cell_type": "code",
      "source": [
        "compare_models()"
      ],
      "metadata": {
        "id": "KuMDXkaus0XM"
      },
      "execution_count": null,
      "outputs": []
    },
    {
      "cell_type": "code",
      "source": [
        "qda_model = create_model('qda')"
      ],
      "metadata": {
        "id": "pWQvWSqvtKTR"
      },
      "execution_count": null,
      "outputs": []
    },
    {
      "cell_type": "code",
      "source": [
        "plot_model(qda_model, plot = 'confusion_matrix')"
      ],
      "metadata": {
        "id": "2YqFWixitTBJ"
      },
      "execution_count": null,
      "outputs": []
    }
  ]
}