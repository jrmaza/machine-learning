{
  "nbformat": 4,
  "nbformat_minor": 0,
  "metadata": {
    "colab": {
      "provenance": [],
      "authorship_tag": "ABX9TyPMHhl1DJ/RIQbuzww2L0w8",
      "include_colab_link": true
    },
    "kernelspec": {
      "name": "python3",
      "display_name": "Python 3"
    },
    "language_info": {
      "name": "python"
    }
  },
  "cells": [
    {
      "cell_type": "markdown",
      "metadata": {
        "id": "view-in-github",
        "colab_type": "text"
      },
      "source": [
        "<a href=\"https://colab.research.google.com/github/jrmaza/machine-learning/blob/main/MachineLearningChemistry01.ipynb\" target=\"_parent\"><img src=\"https://colab.research.google.com/assets/colab-badge.svg\" alt=\"Open In Colab\"/></a>"
      ]
    },
    {
      "cell_type": "markdown",
      "source": [
        "# **Aprendizaje de Máquina para el desarrollo de moléculas bioactivas**\n",
        "\n",
        "Google Colaboratory\n",
        "Es una interfaz dispuesta por Google, basada en jupyter notebook. Permite al usuario combinar en un solo documento código ejecutable (inicialmente python) y texto formateado (en lenguaje Markdown/HTML/laTeX). Los documentos son atuomáticamente generados en la cuenta de Google Drive del usuario, lo que facilita el trabajo en equipo.\n",
        "Un documento"
      ],
      "metadata": {
        "id": "XnTYBQytjMwb"
      }
    }
  ]
}