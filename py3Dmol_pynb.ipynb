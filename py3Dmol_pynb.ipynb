{
  "nbformat": 4,
  "nbformat_minor": 0,
  "metadata": {
    "kernelspec": {
      "display_name": "Python 3",
      "language": "python",
      "name": "python3"
    },
    "language_info": {
      "codemirror_mode": {
        "name": "ipython",
        "version": 3
      },
      "file_extension": ".py",
      "mimetype": "text/x-python",
      "name": "python",
      "nbconvert_exporter": "python",
      "pygments_lexer": "ipython3",
      "version": "3.8.5"
    },
    "colab": {
      "provenance": [],
      "include_colab_link": true
    }
  },
  "cells": [
    {
      "cell_type": "markdown",
      "metadata": {
        "id": "view-in-github",
        "colab_type": "text"
      },
      "source": [
        "<a href=\"https://colab.research.google.com/github/jrmaza/machine-learning/blob/main/py3Dmol_pynb.ipynb\" target=\"_parent\"><img src=\"https://colab.research.google.com/assets/colab-badge.svg\" alt=\"Open In Colab\"/></a>"
      ]
    },
    {
      "cell_type": "markdown",
      "metadata": {
        "id": "7w1AnUV8Gx5J"
      },
      "source": [
        "py3Dmol\n",
        "=======\n",
        "\n",
        "py3DMol es un artilugio para utilizar un módulo javascript (3Dmol.js) en ```python notebooks``` con [IPython/Jupyter](http://jupyter.org/).\n",
        "No se necesita un kernel IPython para usarse.\n",
        "\n",
        "Instalación\n",
        "------------\n"
      ]
    },
    {
      "cell_type": "code",
      "metadata": {
        "id": "XqOY78BIeESr"
      },
      "source": [
        "!pip install py3Dmol"
      ],
      "execution_count": null,
      "outputs": []
    },
    {
      "cell_type": "markdown",
      "source": [
        "Invocar el módulo\n",
        "------------"
      ],
      "metadata": {
        "id": "04zijyUfxbT_"
      }
    },
    {
      "cell_type": "code",
      "metadata": {
        "id": "Q5RuxM2JGx5K"
      },
      "source": [
        "import py3Dmol"
      ],
      "execution_count": 3,
      "outputs": []
    },
    {
      "cell_type": "markdown",
      "source": [
        "```query``` & ```setStyle```\n",
        "------------\n",
        "Con ```query``` podemos acceder a estructuras cristalográficas de macro-estructuras tipo proteínas con el código PDB. La subclase ```setStyle``` permite modificar el estilo de visualización de las moléculas.\n",
        "\n",
        "La prteasa del VIH depositada en el servidor https://www.rcsb.org/structure/2Q5K, puede ser visualizada con ```py3Dmol```"
      ],
      "metadata": {
        "id": "591iNyV_xjxJ"
      }
    },
    {
      "cell_type": "code",
      "metadata": {
        "scrolled": false,
        "id": "oMtjSTR0Gx5O"
      },
      "source": [
        "protease = py3Dmol.view(query='mmtf:2Q5K')\n",
        "protease.setStyle({'cartoon': {'color':'spectrum'}})\n",
        "protease.show()\n",
        "# **** Intentar ****\n",
        "# A. Cambie el atributo de tipo de representación de la molécula: 'line', 'sticks', 'sphere'\n",
        "# B. Cambie el atributo de 'color' de representación de la molécula: 'pink', 'blue'"
      ],
      "execution_count": null,
      "outputs": []
    },
    {
      "cell_type": "markdown",
      "metadata": {
        "id": "2Ffv8tOjf9Kp"
      },
      "source": [
        "Integración con RDKit\n",
        "=====================\n",
        "\n"
      ]
    },
    {
      "cell_type": "markdown",
      "metadata": {
        "id": "Ly_HI6lEFNlD"
      },
      "source": [
        "### Install RDKit"
      ]
    },
    {
      "cell_type": "code",
      "metadata": {
        "id": "gcm59MolfyhP"
      },
      "source": [
        "!pip install rdkit"
      ],
      "execution_count": null,
      "outputs": []
    },
    {
      "cell_type": "code",
      "source": [
        "import rdkit\n",
        "from rdkit import Chem\n",
        "from rdkit.Chem import AllChem\n",
        "from rdkit.Chem import Draw\n",
        "from rdkit.Chem.Draw import IPythonConsole\n",
        "rdkit.Chem.Draw.IPythonConsole.ipython_3d = True  # Activa la visualización en línea py3Dmol"
      ],
      "metadata": {
        "id": "tNwAI0Zu437o"
      },
      "execution_count": 6,
      "outputs": []
    },
    {
      "cell_type": "markdown",
      "metadata": {
        "id": "NLW_im9QFT6k"
      },
      "source": [
        "### Load a Molecule"
      ]
    },
    {
      "cell_type": "code",
      "metadata": {
        "id": "Te-MFQENgDcg"
      },
      "source": [
        "mol = Chem.MolFromSmiles('Cn1cnc2c1c(=O)n(c(=O)n2C)C')\n",
        "mol = Chem.rdmolops.AddHs(mol)\n",
        "AllChem.EmbedMolecule(mol)\n",
        "mol"
      ],
      "execution_count": null,
      "outputs": []
    },
    {
      "cell_type": "markdown",
      "metadata": {
        "id": "mbAvUo4pgHZZ"
      },
      "source": [
        "## Ejemplos de visualizaciones\n",
        "\n",
        "Vibraciones moleculares\n",
        "------\n",
        "Construiremos la molécula del amoniaco NH3 y asignaremos una vibración"
      ]
    },
    {
      "cell_type": "code",
      "metadata": {
        "id": "HJgljxQDGx5R"
      },
      "source": [
        "xyz = '''4\n",
        "* (null), Energy   -1000.0000000\n",
        "N     0.000005    0.019779   -0.000003   -0.157114    0.000052   -0.012746\n",
        "H     0.931955   -0.364989    0.000003    1.507100   -0.601158   -0.004108\n",
        "H    -0.465975   -0.364992    0.807088    0.283368    0.257996   -0.583024\n",
        "H    -0.465979   -0.364991   -0.807088    0.392764    0.342436    0.764260\n",
        "'''"
      ],
      "execution_count": 24,
      "outputs": []
    },
    {
      "cell_type": "code",
      "metadata": {
        "id": "L0V8SwajGx5U",
        "colab": {
          "base_uri": "https://localhost:8080/"
        },
        "outputId": "80cf1abe-a54d-4c59-da25-7bb3a5de7c3f"
      },
      "source": [
        "xyzview = py3Dmol.view(width=400,height=400)\n",
        "xyzview.addModel(xyz,'xyz',{'vibrate': {'frames':20,'amplitude':1}})\n",
        "xyzview.setStyle({'stick':{}})\n",
        "xyzview.setBackgroundColor('gray')\n",
        "xyzview.animate({'loop': 'backAndForth'})\n",
        "xyzview.zoomTo()\n",
        "xyzview.show()"
      ],
      "execution_count": 25,
      "outputs": [
        {
          "output_type": "display_data",
          "data": {
            "application/3dmoljs_load.v0": "<div id=\"3dmolviewer_16792649844042914\"  style=\"position: relative; width: 400px; height: 400px\">\n        <p id=\"3dmolwarning_16792649844042914\" style=\"background-color:#ffcccc;color:black\">You appear to be running in JupyterLab (or JavaScript failed to load for some other reason).  You need to install the 3dmol extension: <br>\n        <tt>jupyter labextension install jupyterlab_3dmol</tt></p>\n        </div>\n<script>\n\nvar loadScriptAsync = function(uri){\n  return new Promise((resolve, reject) => {\n    //this is to ignore the existence of requirejs amd\n    var savedexports, savedmodule;\n    if (typeof exports !== 'undefined') savedexports = exports;\n    else exports = {}\n    if (typeof module !== 'undefined') savedmodule = module;\n    else module = {}\n\n    var tag = document.createElement('script');\n    tag.src = uri;\n    tag.async = true;\n    tag.onload = () => {\n        exports = savedexports;\n        module = savedmodule;\n        resolve();\n    };\n  var firstScriptTag = document.getElementsByTagName('script')[0];\n  firstScriptTag.parentNode.insertBefore(tag, firstScriptTag);\n});\n};\n\nif(typeof $3Dmolpromise === 'undefined') {\n$3Dmolpromise = null;\n  $3Dmolpromise = loadScriptAsync('https://cdnjs.cloudflare.com/ajax/libs/3Dmol/2.0.1/3Dmol-min.js');\n}\n\nvar viewer_16792649844042914 = null;\nvar warn = document.getElementById(\"3dmolwarning_16792649844042914\");\nif(warn) {\n    warn.parentNode.removeChild(warn);\n}\n$3Dmolpromise.then(function() {\nviewer_16792649844042914 = $3Dmol.createViewer(document.getElementById(\"3dmolviewer_16792649844042914\"),{backgroundColor:\"white\"});\nviewer_16792649844042914.zoomTo();\n\tviewer_16792649844042914.addModel(\"4\\n* (null), Energy   -1000.0000000\\nN     0.000005    0.019779   -0.000003   -0.157114    0.000052   -0.012746\\nH     0.931955   -0.364989    0.000003    1.507100   -0.601158   -0.004108\\nH    -0.465975   -0.364992    0.807088    0.283368    0.257996   -0.583024\\nH    -0.465979   -0.364991   -0.807088    0.392764    0.342436    0.764260\\n\",\"xyz\",{\"vibrate\": {\"frames\": 20, \"amplitude\": 1}});\n\tviewer_16792649844042914.setStyle({\"stick\": {}});\n\tviewer_16792649844042914.setBackgroundColor(\"gray\");\n\tviewer_16792649844042914.animate({\"loop\": \"backAndForth\"});\n\tviewer_16792649844042914.zoomTo();\nviewer_16792649844042914.render();\n});\n</script>",
            "text/html": [
              "<div id=\"3dmolviewer_16792649844042914\"  style=\"position: relative; width: 400px; height: 400px\">\n",
              "        <p id=\"3dmolwarning_16792649844042914\" style=\"background-color:#ffcccc;color:black\">You appear to be running in JupyterLab (or JavaScript failed to load for some other reason).  You need to install the 3dmol extension: <br>\n",
              "        <tt>jupyter labextension install jupyterlab_3dmol</tt></p>\n",
              "        </div>\n",
              "<script>\n",
              "\n",
              "var loadScriptAsync = function(uri){\n",
              "  return new Promise((resolve, reject) => {\n",
              "    //this is to ignore the existence of requirejs amd\n",
              "    var savedexports, savedmodule;\n",
              "    if (typeof exports !== 'undefined') savedexports = exports;\n",
              "    else exports = {}\n",
              "    if (typeof module !== 'undefined') savedmodule = module;\n",
              "    else module = {}\n",
              "\n",
              "    var tag = document.createElement('script');\n",
              "    tag.src = uri;\n",
              "    tag.async = true;\n",
              "    tag.onload = () => {\n",
              "        exports = savedexports;\n",
              "        module = savedmodule;\n",
              "        resolve();\n",
              "    };\n",
              "  var firstScriptTag = document.getElementsByTagName('script')[0];\n",
              "  firstScriptTag.parentNode.insertBefore(tag, firstScriptTag);\n",
              "});\n",
              "};\n",
              "\n",
              "if(typeof $3Dmolpromise === 'undefined') {\n",
              "$3Dmolpromise = null;\n",
              "  $3Dmolpromise = loadScriptAsync('https://cdnjs.cloudflare.com/ajax/libs/3Dmol/2.0.1/3Dmol-min.js');\n",
              "}\n",
              "\n",
              "var viewer_16792649844042914 = null;\n",
              "var warn = document.getElementById(\"3dmolwarning_16792649844042914\");\n",
              "if(warn) {\n",
              "    warn.parentNode.removeChild(warn);\n",
              "}\n",
              "$3Dmolpromise.then(function() {\n",
              "viewer_16792649844042914 = $3Dmol.createViewer(document.getElementById(\"3dmolviewer_16792649844042914\"),{backgroundColor:\"white\"});\n",
              "viewer_16792649844042914.zoomTo();\n",
              "\tviewer_16792649844042914.addModel(\"4\\n* (null), Energy   -1000.0000000\\nN     0.000005    0.019779   -0.000003   -0.157114    0.000052   -0.012746\\nH     0.931955   -0.364989    0.000003    1.507100   -0.601158   -0.004108\\nH    -0.465975   -0.364992    0.807088    0.283368    0.257996   -0.583024\\nH    -0.465979   -0.364991   -0.807088    0.392764    0.342436    0.764260\\n\",\"xyz\",{\"vibrate\": {\"frames\": 20, \"amplitude\": 1}});\n",
              "\tviewer_16792649844042914.setStyle({\"stick\": {}});\n",
              "\tviewer_16792649844042914.setBackgroundColor(\"gray\");\n",
              "\tviewer_16792649844042914.animate({\"loop\": \"backAndForth\"});\n",
              "\tviewer_16792649844042914.zoomTo();\n",
              "viewer_16792649844042914.render();\n",
              "});\n",
              "</script>"
            ]
          },
          "metadata": {}
        }
      ]
    },
    {
      "cell_type": "markdown",
      "metadata": {
        "id": "4hOvXO7gGx5Y"
      },
      "source": [
        "Archivos ```mol```\n",
        "========\n",
        "\n",
        "Al igual que los archivos XYZ, también se puede cargar un archivo de extensión ```mol```"
      ]
    },
    {
      "cell_type": "code",
      "metadata": {
        "id": "ejxuswl7Gx5Z"
      },
      "source": [
        "benceno='''\n",
        "     RDKit          3D\n",
        "\n",
        "  6  6  0  0  0  0  0  0  0  0999 V2000\n",
        "   -0.9517    0.7811   -0.6622 C   0  0  0  0  0  0  0  0  0  0  0  0\n",
        "    0.2847    1.3329   -0.3121 C   0  0  0  0  0  0  0  0  0  0  0  0\n",
        "    1.2365    0.5518    0.3512 C   0  0  0  0  0  0  0  0  0  0  0  0\n",
        "    0.9517   -0.7811    0.6644 C   0  0  0  0  0  0  0  0  0  0  0  0\n",
        "   -0.2847   -1.3329    0.3144 C   0  0  0  0  0  0  0  0  0  0  0  0\n",
        "   -1.2365   -0.5518   -0.3489 C   0  0  0  0  0  0  0  0  0  0  0  0\n",
        "  1  2  2  0\n",
        "  2  3  1  0\n",
        "  3  4  2  0\n",
        "  4  5  1  0\n",
        "  5  6  2  0\n",
        "  6  1  1  0\n",
        "M  END\n",
        "$$$$'''\n",
        "view = py3Dmol.view(data=benceno,style={'stick':{'colorscheme':'cyanCarbon'}})\n",
        "view.show()"
      ],
      "execution_count": null,
      "outputs": []
    },
    {
      "cell_type": "markdown",
      "metadata": {
        "id": "mp2qaHk6Gx5c"
      },
      "source": [
        "Rejillas de representaciones\n",
        "======\n",
        "Se puede crear una rejilla de n-filas por m-columnas y en cada una tener una representación de diferentes moléculas."
      ]
    },
    {
      "cell_type": "code",
      "metadata": {
        "id": "3uNCGj3DGx5d"
      },
      "source": [
        "view = py3Dmol.view(query='pdb:1dc9',linked=False,viewergrid=(2,2))\n",
        "view.setViewStyle({'style':'outline','color':'black','width':0.1})\n",
        "view.setStyle({'cartoon':{'arrows':True, 'tubes':True, 'style':'oval', 'color':'white'}},viewer=(0,1))\n",
        "view.setStyle({'stick':{'colorscheme':'greenCarbon'}},viewer=(1,0))\n",
        "view.setStyle({'cartoon':{'color':'spectrum'}},viewer=(1,1))\n",
        "view.removeAllModels(viewer=(0,0))\n",
        "view.addModel(benceno,'sdf',viewer=(0,0))\n",
        "view.setStyle({'stick':{}},viewer=(0,0))\n",
        "view.zoomTo(viewer=(0,0))\n",
        "view.render()"
      ],
      "execution_count": null,
      "outputs": []
    },
    {
      "cell_type": "markdown",
      "metadata": {
        "id": "vi_tFDsMGx5v"
      },
      "source": [
        "Mismo objeto, diferentes representaciones\n",
        "=====\n",
        "\n",
        "Se puede crear una rejilla de n-filas por m-columnas y especificar un estilo diferente para cada una de las representaciones en el contenedor nxm"
      ]
    },
    {
      "cell_type": "code",
      "metadata": {
        "id": "mgMG_JakGx5w"
      },
      "source": [
        "view = py3Dmol.view(query='pdb:1dc9',viewergrid=(2,2),style=[[{'stick':{}},{'cartoon':{'arrows':True, 'tubes':True, 'style':'oval', 'color':'white'}}],\n",
        "                                                            [{'stick':{'colorscheme':'greenCarbon'}},{'cartoon':{'color':'spectrum'}}]])\n",
        "view.show()"
      ],
      "execution_count": null,
      "outputs": []
    },
    {
      "cell_type": "markdown",
      "source": [
        "Diferentes representaciones\n",
        "======\n"
      ],
      "metadata": {
        "id": "LTqPMOTsCKX2"
      }
    },
    {
      "cell_type": "code",
      "metadata": {
        "id": "0N6PEYCyGx5g"
      },
      "source": [
        "view = py3Dmol.view(query='pdb:1ycr')\n",
        "chA = {'chain':'A'}\n",
        "chB = {'chain':'B'}\n",
        "view.setStyle(chA,{'cartoon': {'color':'spectrum'}})\n",
        "view.addSurface(py3Dmol.VDW,{'opacity':0.7,'color':'white'}, chA)\n",
        "view.setStyle(chB,{'stick':{}})\n",
        "view.show()"
      ],
      "execution_count": null,
      "outputs": []
    },
    {
      "cell_type": "markdown",
      "source": [
        "Diferentes aplicaciones con py3Dmol\n",
        "======"
      ],
      "metadata": {
        "id": "3Mg0I4XIC4N5"
      }
    },
    {
      "cell_type": "code",
      "source": [
        "def MolTo3DView(mol, size=(300, 300), style=\"stick\", surface=False, opacity=0.5):\n",
        "    \"\"\"Draw molecule in 3D\n",
        "    \n",
        "    Args:\n",
        "    ----\n",
        "        mol: rdMol, molecule to show\n",
        "        size: tuple(int, int), canvas size\n",
        "        style: str, type of drawing molecule\n",
        "               style can be 'line', 'stick', 'sphere', 'carton'\n",
        "        surface, bool, display SAS\n",
        "        opacity, float, opacity of surface, range 0.0-1.0\n",
        "    Return:\n",
        "    ----\n",
        "        viewer: py3Dmol.view, a class for constructing embedded 3Dmol.js views in ipython notebooks.\n",
        "    \"\"\"\n",
        "    assert style in ('line', 'stick', 'sphere', 'carton')\n",
        "    mblock = Chem.MolToMolBlock(mol)\n",
        "    viewer = py3Dmol.view(width=size[0], height=size[1])\n",
        "    viewer.addModel(mblock, 'mol')\n",
        "    viewer.setStyle({style:{}})\n",
        "    if surface:\n",
        "        viewer.addSurface(py3Dmol.SAS, {'opacity': opacity})\n",
        "    viewer.zoomTo()\n",
        "    return viewer"
      ],
      "metadata": {
        "id": "GEa6zsHaC8Gd"
      },
      "execution_count": 29,
      "outputs": []
    },
    {
      "cell_type": "code",
      "source": [
        "from ipywidgets import interact,fixed,IntSlider\n",
        "import ipywidgets\n",
        "\n",
        "@interact\n",
        "def smi2viewer(smi='CC=O'):\n",
        "    try:\n",
        "        conf = smi2conf(smi)\n",
        "        return MolTo3DView(conf).show()\n",
        "    except:\n",
        "        return None"
      ],
      "metadata": {
        "id": "-N-_caAcDIHr"
      },
      "execution_count": null,
      "outputs": []
    },
    {
      "cell_type": "code",
      "source": [
        "from ipywidgets import interact,fixed,IntSlider\n",
        "import ipywidgets\n",
        "\n",
        "def smi2conf(smiles):\n",
        "    '''Convert SMILES to rdkit.Mol with 3D coordinates'''\n",
        "    mol = Chem.MolFromSmiles(smiles)\n",
        "    if mol is not None:\n",
        "        mol = Chem.AddHs(mol)\n",
        "        AllChem.EmbedMolecule(mol)\n",
        "        AllChem.MMFFOptimizeMolecule(mol, maxIters=200)\n",
        "        return mol\n",
        "    else:\n",
        "        return None\n",
        "\n",
        "\n",
        "smi = 'COc3nc(OCc2ccc(C#N)c(c1ccc(C(=O)O)cc1)c2P(=O)(O)O)ccc3C[NH2+]CC(I)NC(=O)C(F)(Cl)Br'\n",
        "conf = smi2conf(smi)\n",
        "viewer = MolTo3DView(conf, size=(600, 300), style='sphere')\n",
        "viewer.show()"
      ],
      "metadata": {
        "id": "FUgMcLD2CnQM"
      },
      "execution_count": null,
      "outputs": []
    }
  ]
}