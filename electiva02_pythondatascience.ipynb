{
  "nbformat": 4,
  "nbformat_minor": 0,
  "metadata": {
    "colab": {
      "provenance": [],
      "authorship_tag": "ABX9TyPaNvjCcFCTMz0hbejoN8Wu",
      "include_colab_link": true
    },
    "kernelspec": {
      "name": "python3",
      "display_name": "Python 3"
    },
    "language_info": {
      "name": "python"
    }
  },
  "cells": [
    {
      "cell_type": "markdown",
      "metadata": {
        "id": "view-in-github",
        "colab_type": "text"
      },
      "source": [
        "<a href=\"https://colab.research.google.com/github/jrmaza/machine-learning/blob/main/electiva02_pythondatascience.ipynb\" target=\"_parent\"><img src=\"https://colab.research.google.com/assets/colab-badge.svg\" alt=\"Open In Colab\"/></a>"
      ]
    },
    {
      "cell_type": "markdown",
      "source": [
        "# Librerías en ciencias de datos\n",
        "\n",
        "## Pandas"
      ],
      "metadata": {
        "id": "fzWNkekL19G5"
      }
    },
    {
      "cell_type": "code",
      "execution_count": null,
      "metadata": {
        "id": "OwUUQn0ZeV12"
      },
      "outputs": [],
      "source": [
        "import numpy as np #se importa la librería numpy con el alias 'np'\n",
        "import pandas as pd #se importa la librería pandas con el alias de 'pd'\n",
        "pd.__version__"
      ]
    },
    {
      "cell_type": "markdown",
      "source": [
        "En pandas hay dos estructuras de datos funcionales: las series y los DataFrames. Las series son un conjunto de datos en forma de diccionario en una sola fila. \n",
        "Para este curso, nos centraremos en esta última estructura de datos, que es un arreglo 2-D de datos etiquetados, imagine un DataFrame como una hoja de cálculo con filas y columnas\n",
        "![](https://media.geeksforgeeks.org/wp-content/uploads/finallpandas.png)\n",
        "\n",
        "En Pandas"
      ],
      "metadata": {
        "id": "VQrr6l4B2qcz"
      }
    },
    {
      "cell_type": "code",
      "source": [
        "area = pd.Series({'Bogota': 1636.35, 'Medellin': 382,\n",
        "                  'Cali': 619, 'Barranquilla': 154,\n",
        "                  'Cartagena': 572, 'Soledad': 67})\n",
        "pob = pd.Series({'Bogota': 8380801, 'Medellin': 2569007,\n",
        "                  'Cali': 2496346, 'Barranquilla': 1239804,\n",
        "                  'Cartagena': 1057767, 'Soledad': 700970, 'Cerete': 94935})"
      ],
      "metadata": {
        "id": "nEjEx3PCAqAT"
      },
      "execution_count": 49,
      "outputs": []
    },
    {
      "cell_type": "code",
      "source": [
        "col = pd.DataFrame({'area':area, 'pob':pob})\n",
        "col"
      ],
      "metadata": {
        "id": "OWFxb9aSDscy"
      },
      "execution_count": null,
      "outputs": []
    },
    {
      "cell_type": "code",
      "source": [
        "col['densidad'] = col['pob'] / col['area']\n",
        "col"
      ],
      "metadata": {
        "id": "TfehVKbZCb4-"
      },
      "execution_count": null,
      "outputs": []
    },
    {
      "cell_type": "code",
      "source": [
        "temp = pd.Series({'Bogota': 19, 'Medellin': 25,\n",
        "                  'Cali': 28, 'Barranquilla': 30,\n",
        "                  'Cartagena': np.nan, 'Soledad': 31})\n",
        "temp"
      ],
      "metadata": {
        "id": "xQYld7smEJ6g"
      },
      "execution_count": null,
      "outputs": []
    },
    {
      "cell_type": "code",
      "source": [
        "temp.isnull()"
      ],
      "metadata": {
        "id": "UdNdqVffExhe"
      },
      "execution_count": null,
      "outputs": []
    },
    {
      "cell_type": "code",
      "source": [
        "col['temp'] = temp\n",
        "col"
      ],
      "metadata": {
        "id": "TlAmR9a1FaCN"
      },
      "execution_count": null,
      "outputs": []
    },
    {
      "cell_type": "code",
      "source": [
        "col.describe()"
      ],
      "metadata": {
        "id": "G0e710r0IAkH"
      },
      "execution_count": null,
      "outputs": []
    },
    {
      "cell_type": "code",
      "source": [
        "col.dropna()"
      ],
      "metadata": {
        "id": "57aRI7srHBtF"
      },
      "execution_count": null,
      "outputs": []
    },
    {
      "cell_type": "code",
      "source": [
        "col.fillna(0)"
      ],
      "metadata": {
        "id": "fYwC8hn6HTm6"
      },
      "execution_count": null,
      "outputs": []
    },
    {
      "cell_type": "code",
      "source": [
        "col.fillna(col.temp.mean())"
      ],
      "metadata": {
        "id": "BoDzixL2Hcvq"
      },
      "execution_count": null,
      "outputs": []
    },
    {
      "cell_type": "code",
      "source": [
        "col[['temp']] = col[['temp']].fillna(col.temp.mean())\n",
        "col"
      ],
      "metadata": {
        "id": "xKUXUuG1JL5S"
      },
      "execution_count": null,
      "outputs": []
    },
    {
      "cell_type": "markdown",
      "source": [
        "## Seaborn \n",
        "Se trata de una librería de visualización de datos para Python desarrollada sobre matplotlib . Ofrece una interfaz de alto nivel para la creación de atractivas gráficas."
      ],
      "metadata": {
        "id": "KqQTzKi4LOmI"
      }
    },
    {
      "cell_type": "code",
      "source": [
        "import seaborn as sns\n",
        "import matplotlib.pyplot as plt"
      ],
      "metadata": {
        "id": "WtgHCip7J2th"
      },
      "execution_count": 67,
      "outputs": []
    },
    {
      "cell_type": "code",
      "source": [
        "# Conjunto de datos: \n",
        "data = sns.load_dataset('iris')\n",
        "data.columns = [\"long_sepalo\", \"ancho_sepalo\", \"long_petalo\", \"ancho_petalo\", \"especie\"]"
      ],
      "metadata": {
        "id": "08zxC6vmLrnY"
      },
      "execution_count": 66,
      "outputs": []
    },
    {
      "cell_type": "markdown",
      "source": [
        "![](https://upload.wikimedia.org/wikipedia/commons/thumb/5/56/Kosaciec_szczecinkowaty_Iris_setosa.jpg/360px-Kosaciec_szczecinkowaty_Iris_setosa.jpg)\n",
        "![](https://upload.wikimedia.org/wikipedia/commons/thumb/4/41/Iris_versicolor_3.jpg/640px-Iris_versicolor_3.jpg)\n",
        "![](https://upload.wikimedia.org/wikipedia/commons/thumb/9/9f/Iris_virginica.jpg/590px-Iris_virginica.jpg)"
      ],
      "metadata": {
        "id": "ykEbilXTM2yT"
      }
    },
    {
      "cell_type": "code",
      "source": [
        "iris = pd.DataFrame(data)\n",
        "iris"
      ],
      "metadata": {
        "id": "yLMQs-rnM3qu"
      },
      "execution_count": null,
      "outputs": []
    },
    {
      "cell_type": "code",
      "source": [
        "iris.info"
      ],
      "metadata": {
        "id": "sDkT8kckQWNg"
      },
      "execution_count": null,
      "outputs": []
    },
    {
      "cell_type": "code",
      "source": [
        "iris['especie'].value_counts()"
      ],
      "metadata": {
        "id": "rq3lEjorQbd5"
      },
      "execution_count": null,
      "outputs": []
    },
    {
      "cell_type": "code",
      "source": [
        "%matplotlib inline\n",
        "#plt.style.use('classic')\n",
        "x_axis = iris['long_petalo']\n",
        "y_axis = iris['ancho_petalo']\n",
        "\n",
        "# plotting simple scattered plot\n",
        "plt.scatter(x_axis, y_axis)\n",
        "plt.show()"
      ],
      "metadata": {
        "id": "bTYkPIkKOFWc"
      },
      "execution_count": null,
      "outputs": []
    },
    {
      "cell_type": "code",
      "source": [
        "sns.scatterplot(x=x_axis, y=y_axis, hue=iris.especie, s=90)"
      ],
      "metadata": {
        "id": "ikBr7GbdO3eG"
      },
      "execution_count": null,
      "outputs": []
    },
    {
      "cell_type": "code",
      "source": [
        "sns.lineplot(data=iris)"
      ],
      "metadata": {
        "id": "pcp0uNxjPQrF"
      },
      "execution_count": null,
      "outputs": []
    },
    {
      "cell_type": "code",
      "source": [
        "sns.jointplot(x=x_axis, y=y_axis, data=iris, size=5)"
      ],
      "metadata": {
        "id": "YKYda_i6QixE"
      },
      "execution_count": null,
      "outputs": []
    },
    {
      "cell_type": "code",
      "source": [
        "sns.pairplot(data=iris,kind='scatter', hue='especie')"
      ],
      "metadata": {
        "id": "5U3sJNa_Q8dN"
      },
      "execution_count": null,
      "outputs": []
    },
    {
      "cell_type": "markdown",
      "source": [
        "## Ejercicio 02\n",
        "### Realizar un ejercicio análogo con el conjunto de datos de SeaBorn **penguins**"
      ],
      "metadata": {
        "id": "LyRg8w3CNm7_"
      }
    }
  ]
}