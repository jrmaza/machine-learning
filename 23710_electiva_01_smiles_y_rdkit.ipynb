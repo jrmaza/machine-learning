{
  "nbformat": 4,
  "nbformat_minor": 0,
  "metadata": {
    "colab": {
      "provenance": [],
      "authorship_tag": "ABX9TyNMVldQlXhz6sHWSJSin2rd",
      "include_colab_link": true
    },
    "kernelspec": {
      "name": "python3",
      "display_name": "Python 3"
    },
    "language_info": {
      "name": "python"
    }
  },
  "cells": [
    {
      "cell_type": "markdown",
      "metadata": {
        "id": "view-in-github",
        "colab_type": "text"
      },
      "source": [
        "<a href=\"https://colab.research.google.com/github/jrmaza/machine-learning/blob/main/23710_electiva_01_smiles_y_rdkit.ipynb\" target=\"_parent\"><img src=\"https://colab.research.google.com/assets/colab-badge.svg\" alt=\"Open In Colab\"/></a>"
      ]
    },
    {
      "cell_type": "markdown",
      "source": [
        "# **SMILES y descriptores moleculares con RDKit**"
      ],
      "metadata": {
        "id": "neu5TBRC0_f3"
      }
    },
    {
      "cell_type": "markdown",
      "source": [
        "\n",
        "\n",
        "---\n",
        "\n"
      ],
      "metadata": {
        "id": "EXM414mc1Hio"
      }
    },
    {
      "cell_type": "markdown",
      "source": [
        "## **SMILES: Simplfied Molecular Input-Line Entry Specification**\n",
        "## **EILMS: Especificación de Introducción Lineal Molecular Simplificada**\n",
        "\n",
        "Es una notación utilizada en Química que permite representar las estructuras moleculares en una forma de lenguaje de máquina. Este tipo"
      ],
      "metadata": {
        "id": "CjJB00jO5gkT"
      }
    },
    {
      "cell_type": "markdown",
      "source": [
        "![Representacón SMILES](https://d2cbg94ubxgsnp.cloudfront.net/Pictures/1024x536/7/1/6/516716_smiles_54413.png)\n",
        "\n",
        "**Figura 1**. Representación SMILES de una molécula orgánica"
      ],
      "metadata": {
        "id": "BJ17_EmI7W4t"
      }
    },
    {
      "cell_type": "markdown",
      "source": [
        "La notación SMILES fue desarrollada por [Dave Weininger](https://www.chemistryworld.com/opinion/weiningers-smiles/4014639.article) en Pomona College, Claremont, Canada en varias publicaciones comenzando desde 1897.\n",
        "\n",
        "### Reglas o sintáxis básicas de SMILES\n",
        "Se deben seguir cinco reglas básicas para una correcta notación SMILES de una molécula o sustancia química. A continuación, se describirán las cinco reglas generales para una notación consistente."
      ],
      "metadata": {
        "id": "9a51Gxhi7mvC"
      }
    },
    {
      "cell_type": "markdown",
      "source": [
        "#### **Regla 1: Átomos y Enlaces**\n",
        "La notación SMILES soporta todos los elementos en la tabla periódica. Un átomo es representado usando su símbolo respectivo. Si el símbolo de un átomo contiene dos caracteres, la segunda letra debe escribirse en minúsculas.\n",
        "\n",
        "En compuestos orgánicos los hidrógenos son omitidos por simpleza, que contengan átomos como nitrógeno, oxígeno y carbono, los símbolos en <font color='red'>**MAYÚSCULAS**</font> representan átomos <font color='red'>**NO-AROMÁTICOS**</font>, mientras que si su conjugación es <font color='blue'>**aromática**</font>, deben ser representados en <font color='blue'>**minúsculas**</font>.\n",
        "\n",
        "\n",
        "El tipo de enlaces se representan de la siguiente forma:\n",
        "\n",
        "| Tipo de enlace      | Reperesentación SMILES |\n",
        "| ----------- | ----------- |\n",
        "| Enlace sencillo σ      | `-`       |\n",
        "| Enlace doble π      | `=`       |\n",
        "| Enlace triple       | `#`       |\n",
        "| Enlace aromático       | `*`       |\n",
        "| Estructura desconectada       | `.`       |\n",
        "\n",
        "Los enlaces sencillos, se consideran por defecto y generalmente (a menos que sea necesario especificarlos) se omiten. Por ejemplo, `CC` corresponderá que los átomos están conectados por un enlace sencillo y que ninguno de los dos es aromático, así en lenguaje de máquina se interpretará esta estructura como el etano."
      ],
      "metadata": {
        "id": "TigfeUyI8mO7"
      }
    },
    {
      "cell_type": "markdown",
      "source": [
        "#### **Regla 2: Cadenas simples**\n",
        "\n",
        "Se puede representar la estructura molecular combinando símbolos atómicos y notación de enlaces.\n",
        "\n",
        "Algunos ejemplos de moléculas son:\n",
        "\n",
        "| SMILES      | Fórmula Molecular | Nombre |\n",
        "| ----------- | ----------- | ----------- |\n",
        "| `CC`    | CH3CH3 |\tEtano             |\n",
        "| `C=C`\t  | CH2CH2 |\tEteno             |\n",
        "| `CBr`\t  | CH3Br  |\tBromometano       |\n",
        "| `C#N \t  | C=N \t | Ácido cinanhídrico |\n",
        "| `Na.Cl` | NaCl   | Cloruro de sodio   |\n",
        "\n",
        "En adición, se puede especificar de manera explícita (si se desea) los átomos de hidrógeno. Sin embargo, si un átomo de hidrógeno es ingresado en la notación, el intérprete asumirá que se han ingresado todos los átomos de hidrógeno de la molécula.\n",
        "Por ejemplo el eteno:\n",
        "`HC(H)=C(H)(H)`"
      ],
      "metadata": {
        "id": "ahWUqN0KAe-N"
      }
    },
    {
      "cell_type": "markdown",
      "source": [
        "#### **Regla 3: Ramificaciones**\n",
        "\n",
        "Una ramificación se especifica mediante el uso de paréntesis `()`, indicando en el medio el símbolo o símbolos de los átomos que se encuentran ramificados de la cadena principal. El paréntesis son ubicados directamente después de el símbolo del átomo al cuál está conectada la ramificación.\n",
        "\n",
        "| SMILES      | Nombre |\n",
        "| ----------- | ----------- |\n",
        "| `CC(O)C` \t          |  2-Propanol |\n",
        "| `CC(=O)C` \t        |  2-Propanona |\n",
        "| `CC(CC)C` \t        |  2-Methilbutano |\n",
        "| `CC(C)CC(=O)` \t    |  2-Methlbutanal |\n",
        "| `c1c(N(=O)=O)cccc1` | \tNitrobenceno |\n",
        "| `CC(C)(C)CC`  \t    |  2,2-Dimetilbutano |\n",
        "\n"
      ],
      "metadata": {
        "id": "Cfu41ZHmwNSB"
      }
    },
    {
      "cell_type": "markdown",
      "source": [
        "#### **Regla 4: Anillos**\n",
        "\n",
        "Se identifican estructuras cíclicas o anillos, indicando átomos de apertura y cerradura. Por ejemplo en `C1CCCCC1` el primer carbono tiene el número 1, el cual está conectado con un enlace simple con el último carbono, que también tiene el número 1. La estructura resultante es el ciclohexano. Estructuras con más de un anillo, se pueden representar utilizando diferentes números para cada anillo. Si un enlace doble o aromático hace parte del átomo abridor o cerrante del anillo, el símbolo del enlace se indica antes del número que indica antes del símbolo. Algunos ejemplos ilustrativos son:\n",
        "\n",
        "| SMILES      | Nombre |\n",
        " | ----------- | ----------- |      \n",
        " | `C=1CCCCC1` \t| Ciclohexeno |\n",
        " | `C*1*C*C*C*C*C1` \t| Benceno |\n",
        " | `c1ccccc1` \t| Benceno |\n",
        " | `C1OC1CC` \t| Etiloxirano |\n",
        " | `c1cc2ccccc2cc1` \t| Nafthaleno |"
      ],
      "metadata": {
        "id": "DBghpCvexm0t"
      }
    },
    {
      "cell_type": "markdown",
      "source": [
        "\n",
        "#### **Regla 5: Átomos cargados**\n",
        "\n",
        "Las cargas en los átomos deben ser especificadas utilizando los corchetes: `{}` indicando dentro la carga del átomo, por ejemplo:\n",
        "\n",
        " | SMILES      | Nombre |\n",
        " | ----------- | ----------- |      \n",
        " | `CCC(=O)O{-1}` \t| Propanoato |\n",
        " | `c1ccccn{+1}1CC(=O)O` \t| 1-Carboxilmetil piridinium |\n"
      ],
      "metadata": {
        "id": "u85SLj_4zpls"
      }
    },
    {
      "cell_type": "markdown",
      "source": [
        "\n",
        "\n",
        "---\n",
        "\n"
      ],
      "metadata": {
        "id": "eCxnfMoV03pP"
      }
    },
    {
      "cell_type": "markdown",
      "source": [
        "## **RDKit**\n",
        "\n",
        "![](https://www.rdkit.org/Images/logo.png)\n",
        "\n",
        "[RDKit](https://www.rdkit.org/) es un conjunto de herramientas informáticas utilizado en química y diseño de fármacos para investigar y desarrollar nuevos medicamentos de manera más eficiente.\n",
        "Dentro de los principales usos de RDKit se pueden resaltar:\n",
        "- **Simulación y modelado molecula**r: RDKit permite a los científicos simular cómo interactúan las moléculas a nivel atómico, lo que es crucial para entender cómo funcionan los medicamentos en el cuerpo y cómo pueden diseñarse para ser más efectivos.\n",
        "\n",
        "- **Búsqueda y análisis de sustancias químicas**: Ayuda a los investigadores a buscar y analizar diferentes sustancias químicas para encontrar aquellas que podrían ser útiles como medicamentos. Puedes pensar en esto como buscar ingredientes específicos para tu receta.\n",
        "\n",
        "- **Diseño de nuevas moléculas**: Los científicos pueden usar RDKit para crear y modificar moléculas, diseñando así nuevas estructuras químicas que puedan tener propiedades medicinales deseables.\n",
        "\n",
        "- **Predicción de propiedades y toxicidad**: RDKit también puede ayudar a predecir cómo se comportarán las moléculas en el cuerpo y si podrían causar efectos secundarios no deseados."
      ],
      "metadata": {
        "id": "wnZOaZy704iN"
      }
    },
    {
      "cell_type": "markdown",
      "source": [
        "### **Instalación en Google Colaboratory**\n",
        "El utilitario instalador de `python-pip` es utilizado para instalar RDKit de manera concreta en el entorno. Por favor `ejecutar` la siguiente celda de código"
      ],
      "metadata": {
        "id": "ny0-JGTm2JQw"
      }
    },
    {
      "cell_type": "code",
      "source": [
        "#@ Instalar RDKit\n",
        "#!cat  /etc/lsb-release\n",
        "!pip install rdkit-pypi -qqq"
      ],
      "metadata": {
        "colab": {
          "base_uri": "https://localhost:8080/"
        },
        "id": "BS9AeFo_2dkw",
        "outputId": "71fed695-5292-4244-86aa-a3f7fcf6df04"
      },
      "execution_count": null,
      "outputs": [
        {
          "output_type": "stream",
          "name": "stdout",
          "text": [
            "DISTRIB_ID=Ubuntu\n",
            "DISTRIB_RELEASE=22.04\n",
            "DISTRIB_CODENAME=jammy\n",
            "DISTRIB_DESCRIPTION=\"Ubuntu 22.04.2 LTS\"\n"
          ]
        }
      ]
    },
    {
      "cell_type": "code",
      "source": [
        "#@ Importar módulos\n",
        "import rdkit\n",
        "from rdkit import Chem\n",
        "from IPython import display\n",
        "from rdkit.Chem.Draw import IPythonConsole\n",
        "from IPython.display import display\n",
        "from rdkit.Chem import Draw\n",
        "from rdkit.Chem import AllChem\n",
        "from rdkit.Chem import Descriptors"
      ],
      "metadata": {
        "id": "0Ipd_P0q9Dts"
      },
      "execution_count": null,
      "outputs": []
    },
    {
      "cell_type": "code",
      "source": [
        "benzoico = Chem.MolFromSmiles('c1ccccc1C(=O)O')"
      ],
      "metadata": {
        "id": "ZT3KLOEP-XA1"
      },
      "execution_count": null,
      "outputs": []
    },
    {
      "cell_type": "code",
      "source": [
        "benzoico"
      ],
      "metadata": {
        "colab": {
          "base_uri": "https://localhost:8080/",
          "height": 167
        },
        "id": "2z1TxAen-aai",
        "outputId": "42d95256-bee1-45cf-f253-612bc14d8879"
      },
      "execution_count": null,
      "outputs": [
        {
          "output_type": "execute_result",
          "data": {
            "text/plain": [
              "<rdkit.Chem.rdchem.Mol at 0x7de4bd331690>"
            ],
            "image/png": "[encoded data removed]"
          },
          "metadata": {},
          "execution_count": 37
        }
      ]
    },
    {
      "cell_type": "code",
      "source": [
        "################# Intente con las siguientes moléculas\n",
        "## 'OCCc1ccn2cnccc12'\n",
        "## 'C1CC1Oc1cc2ccncn2c1'\n",
        "## 'CNC(=O)c1nccc2cccn12'"
      ],
      "metadata": {
        "id": "e7wF94eDEMVS"
      },
      "execution_count": null,
      "outputs": []
    },
    {
      "cell_type": "markdown",
      "source": [
        "### **Regla de Lipinski**\n",
        "\n",
        "La Regla de Lipinski, también conocida como la Regla de los Cinco o de Pfizer, es un conjunto de criterios desarrollado por el químico Christopher Lipinski en 1997 como una guía general para evaluar la calidad o potencial de una molécula en el proceso de diseño de fármacos. Esta regla se utiliza para identificar candidatos a fármacos que tienen una mayor probabilidad de ser absorbidos y distribuidos eficazmente en el cuerpo humano.\n",
        "\n",
        "La Regla de Lipinski se basa en cuatro criterios principales:\n",
        "\n",
        "- **Peso Molecular (PM)**: El peso molecular de la molécula no debe ser superior a 500 daltons (Da). Las moléculas con un PM menor a 500 Da tienden a tener una mejor absorción y distribución en el cuerpo.\n",
        "\n",
        "- **LogP (Coeficiente de Partición octanol-agua)**: El valor de LogP, que mide la lipofilia o la afinidad de la molécula por las grasas, no debe ser superior a 5. Un valor de LogP inferior a 5 sugiere que la molécula tiene una mejor capacidad para atravesar las membranas celulares.\n",
        "\n",
        "- **Número de Donadores de Hidrógeno (HBD)**: La molécula no debe tener más de 5 grupos donadores de hidrógeno. Los grupos donadores de hidrógeno pueden influir en la interacción de la molécula con las proteínas y afectar su capacidad para llegar a su objetivo en el cuerpo.\n",
        "\n",
        "- **Número de Aceptores de Hidrógeno (HBA)**: La molécula no debe tener más de 10 grupos aceptores de hidrógeno. Los grupos aceptores de hidrógeno pueden influir en la capacidad de la molécula para formar enlaces con otras moléculas en el cuerpo.\n",
        "\n",
        "Si una molécula cumple con estos cuatro criterios, se considera que tiene una mayor probabilidad de ser un buen candidato para el desarrollo de un fármaco oral efectivo. Sin embargo, es importante tener en cuenta que la Regla de Lipinski es una guía general y no una regla estricta; muchas moléculas que no cumplen todos estos criterios aún pueden ser desarrolladas como medicamentos exitosos. Por lo tanto, se utiliza como una herramienta inicial en la selección de compuestos potenciales para el diseño de fármacos y debe combinarse con una evaluación más detallada y específica de las propiedades y objetivos de la molécula en cuestión."
      ],
      "metadata": {
        "id": "Oq58uA1MFp7N"
      }
    },
    {
      "cell_type": "code",
      "source": [
        "mol = Chem.MolFromSmiles('CC(=O)Nc1ccc(O)cc1')  # e.g. Paracetamol\n",
        "\n",
        "# Ro5 descriptors\n",
        "\n",
        "MW = Descriptors.MolWt(mol) #peso molecular\n",
        "HBA = Descriptors.NOCount(mol) #aceptores de puentes de hidrógeno\n",
        "HBD = Descriptors.NHOHCount(mol) #donadores de puentes de hidrógeno\n",
        "LogP = Descriptors.MolLogP(mol) #coeficiente de partición octano-agua\n",
        "conditions = [MW <= 500, HBA <= 10, HBD <= 5, LogP <= 5] #regla de Lipinski\n",
        "pass_ro5 = conditions.count(True) >= 3\n",
        "print(pass_ro5)"
      ],
      "metadata": {
        "colab": {
          "base_uri": "https://localhost:8080/"
        },
        "id": "ecRrKoC9FKln",
        "outputId": "98e604bd-0fe1-4213-c211-f1b40a5db1ba"
      },
      "execution_count": null,
      "outputs": [
        {
          "output_type": "stream",
          "name": "stdout",
          "text": [
            "True\n"
          ]
        }
      ]
    },
    {
      "cell_type": "markdown",
      "source": [
        "### Otros descriptores disponibles en `.Descriptors`\n",
        "\n",
        "- **Polar Surface Area (`MolPSA`)**: Mide el área de la superficie polar en la molécula, puede ayudar a predecir la capacidad de una molécula para atravezar membranas biológicas.\n",
        "\n",
        "- **Topological Polar Surface Area (`TPSA`)**: Calcula la superficie topológica porlar en una molécula, está ampliamente relacionado con la habilidad de un compuesto para formar enlaces de hidrógeno.\n",
        "\n",
        "- **Rotatable Bonds (`NumRotatableBonds`)**: Cuenta el número de enlaces rotables en la molécula, lo cual puede afectar su flexibilidad y conformación.\n",
        "\n",
        "- **Number of Rings (`NumRings`)**: Enumera el número de anillos en una molécula.\n",
        "\n",
        "- **Number of Aromatic Rings (`NumAromaticRings`)**: Número de anillos aromáticos.\n",
        "\n",
        "- **Fractional Partial Charges (`FpCharge`)**: Calcula la fracción o cargas parciales de los átomos en la molécula."
      ],
      "metadata": {
        "id": "CuTLnEoPGxaG"
      }
    },
    {
      "cell_type": "markdown",
      "source": [
        "# **Projecto de primer corte**\n",
        "\n",
        "A partir del nombre de los siguientes fármacos conocidos, realice el cálculo de los descriptores moleculares vistos hasta ahora.\n",
        "\n",
        "Discuta sobre las implicaciones de los valores de los descriptores sobre su potencial farmacológico,\n",
        "\n",
        "- Aspirin (Acetylsalicylic Acid)\n",
        "- Caffeine\n",
        "- Ibuprofen\n",
        "- Paracetamol (Acetaminophen)\n",
        "- Penicillin\n",
        "- Ciprofloxacin\n",
        "- Ranitidine\n",
        "- Loratadine\n",
        "- Simvastatin\n",
        "- Omeprazole\n",
        "- Diazepam\n",
        "- Sertraline\n",
        "- Metformin\n",
        "- Warfarin\n",
        "- Atorvastatin\n",
        "- Morphine\n",
        "- Furosemide\n",
        "- Albuterol\n",
        "- Fluoxetine\n",
        "- Amlodipine\n",
        "- Levothyroxine\n",
        "- Gabapentin\n",
        "- Metoprolol\n",
        "- Clopidogrel\n",
        "- Risperidone"
      ],
      "metadata": {
        "id": "3HHt2H7RJUf3"
      }
    },
    {
      "cell_type": "markdown",
      "source": [
        "Acceda al archivo SDF de la cafeina del repositorio https://www.molinstincts.com/sdf-mol-file/caffeine-sdf-CT1001987571.html"
      ],
      "metadata": {
        "id": "ogDymU68_Wu4"
      }
    },
    {
      "cell_type": "code",
      "source": [
        "!wget https://static.molinstincts.com/sdf_3d/caffeine-3D-structure-CT1001987571.sdf # descargar el archivo\n",
        "!mv caffeine-3D-structure-CT1001987571.sdf caffeine.sdf # renombrar el archivo\n",
        "!cat caffeine.sdf # mostrar el archivo"
      ],
      "metadata": {
        "id": "Yzf7ERuy_et9"
      },
      "execution_count": null,
      "outputs": []
    },
    {
      "cell_type": "code",
      "source": [
        "sdf_file_path = '/content/caffeine.sdf' # asignar la ruta del archivo\n",
        "sdf_supplier = Chem.SDMolSupplier(sdf_file_path) # utilizar SDMolSupplier para cargar el archivo\n",
        "mols = [] # crear un arreglo vacío\n",
        "# Iterar sobre el archivo y almacenar las moléculas en él\n",
        "for molecula in sdf_supplier:\n",
        "    if molecula is not None:\n",
        "        mols.append(molecula)"
      ],
      "metadata": {
        "id": "wewt1hzd_71L"
      },
      "execution_count": null,
      "outputs": []
    },
    {
      "cell_type": "code",
      "source": [
        "Draw.MolsToGridImage(mols)"
      ],
      "metadata": {
        "colab": {
          "base_uri": "https://localhost:8080/",
          "height": 217
        },
        "id": "j2HdJt2HACjH",
        "outputId": "733bedfd-d7f5-4fe2-cd9f-a803c62b0270"
      },
      "execution_count": null,
      "outputs": [
        {
          "output_type": "execute_result",
          "data": {
            "image/png": "[encoded data removed]",
            "text/plain": [
              "<IPython.core.display.Image object>"
            ]
          },
          "metadata": {},
          "execution_count": 57
        }
      ]
    },
    {
      "cell_type": "code",
      "source": [],
      "metadata": {
        "id": "ZWl5DQNsDqBY"
      },
      "execution_count": null,
      "outputs": []
    }
  ]
}