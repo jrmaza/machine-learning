{
  "nbformat": 4,
  "nbformat_minor": 0,
  "metadata": {
    "colab": {
      "provenance": [],
      "authorship_tag": "ABX9TyNnpDa/nruyh8WPC065SgUx",
      "include_colab_link": true
    },
    "kernelspec": {
      "name": "python3",
      "display_name": "Python 3"
    },
    "language_info": {
      "name": "python"
    }
  },
  "cells": [
    {
      "cell_type": "markdown",
      "metadata": {
        "id": "view-in-github",
        "colab_type": "text"
      },
      "source": [
        "<a href=\"https://colab.research.google.com/github/jrmaza/machine-learning/blob/main/pycaret_for_ML.ipynb\" target=\"_parent\"><img src=\"https://colab.research.google.com/assets/colab-badge.svg\" alt=\"Open In Colab\"/></a>"
      ]
    },
    {
      "cell_type": "markdown",
      "source": [
        "# ```pycaret``` para aprendizaje automatizado\n",
        "\n",
        "Son una serie de módulos de fácil uso y bajo código que funcionan bajo una librería enfocada al aprendizaje automatizado.\n",
        "\n",
        "![](https://res.cloudinary.com/dyd911kmh/image/upload/f_auto,q_auto:best/v1637182605/pycaret_1_glzhuo.png)\n",
        "\n",
        "Viene precargado con funcionalidades como preprocesado de datos. Su implementación también corre en GPU.\n",
        "\n",
        "![](https://res.cloudinary.com/dyd911kmh/image/upload/v1637194232/pycaret_2_bdglbp.png)\n",
        "\n",
        "\n",
        "| Module | Task|\n",
        "| -- | -- |\n",
        "| ```pycaret.classification``` \t| Supervised: Binary or multi-class classification |\n",
        "| ```pycaret.regression``` \t| Supervised: Regression |\n",
        "| ```pycaret.clustering``` \t| Unsupervised: Clustering |\n",
        "| ```pycaret.anomaly``` \t| Unsupervised: Anomaly Detection |\n",
        "| ```pycaret.nlp``` \t| Unsupervised: Natural Language Processing (Topic Modeling) |\n",
        "| ```pycaret.arules``` \t| Unsupervised: Association Rules Mining |\n",
        "| ```pycaret.datasets``` | \tDatasets |"
      ],
      "metadata": {
        "id": "P9rCEMJUtX-0"
      }
    },
    {
      "cell_type": "code",
      "source": [
        "!pip install pycaret"
      ],
      "metadata": {
        "id": "ACP8IG0uxet5"
      },
      "execution_count": null,
      "outputs": []
    },
    {
      "cell_type": "code",
      "source": [
        "from pycaret.classification import *"
      ],
      "metadata": {
        "id": "vCf2zpB61GlC"
      },
      "execution_count": 4,
      "outputs": []
    },
    {
      "cell_type": "code",
      "source": [
        "import pandas as pd"
      ],
      "metadata": {
        "id": "RHuXG70z1DOl"
      },
      "execution_count": 2,
      "outputs": []
    },
    {
      "cell_type": "code",
      "source": [
        "pokeurl = 'https://raw.githubusercontent.com/jrmaza/datasets/main/pokemon.csv'"
      ],
      "metadata": {
        "id": "hXTNXPHv1YC3"
      },
      "execution_count": 5,
      "outputs": []
    },
    {
      "cell_type": "code",
      "source": [
        "poke = pd.read_csv(pokeurl)"
      ],
      "metadata": {
        "id": "CEUtuEFm1b8e"
      },
      "execution_count": 7,
      "outputs": []
    },
    {
      "cell_type": "code",
      "source": [
        "poke"
      ],
      "metadata": {
        "id": "S917qZW61lzZ"
      },
      "execution_count": null,
      "outputs": []
    },
    {
      "cell_type": "code",
      "source": [
        "pokemondf = poke.drop(['#', 'Name', 'Type 1', 'Type 2', 'Total', 'Generation'], axis=1)"
      ],
      "metadata": {
        "id": "give9ON41njW"
      },
      "execution_count": 9,
      "outputs": []
    },
    {
      "cell_type": "code",
      "source": [
        "import sklearn \n",
        "from sklearn.preprocessing import LabelEncoder"
      ],
      "metadata": {
        "id": "iOZ0zjU96n7K"
      },
      "execution_count": 12,
      "outputs": []
    },
    {
      "cell_type": "code",
      "source": [
        "lb = LabelEncoder() \n",
        "pokemondf['Legendary'] = lb.fit_transform(pokemondf['Legendary'])"
      ],
      "metadata": {
        "id": "bnYw8uHI6rgj"
      },
      "execution_count": 13,
      "outputs": []
    },
    {
      "cell_type": "code",
      "source": [
        "pokemondf"
      ],
      "metadata": {
        "id": "mxhCs0_t15NV"
      },
      "execution_count": null,
      "outputs": []
    },
    {
      "cell_type": "markdown",
      "source": [
        "# Lista de modelos de regresión en ```pycaret```\n",
        "\n",
        "| ID | Nombre |\n",
        "| -- | -- |\n",
        "| ```lr``` | Regresión lineal |\n",
        "| ```lasso``` | Regresión de Lasso |\n",
        "| ```ridge``` | Regresión de Ridge |\n",
        "| ```en``` | Red elástica (elastic net) |\n",
        "| ```lar``` | Least angle regressión |\n",
        "| ```llar``` | Lasso least angle regressión |\n",
        "| ```omp``` | Orthogonal Matching Pursuit |\n",
        "| ```br``` | Bayesian Ridge |\n",
        "| ```ard``` | Automatic Releevance Determination |\n",
        "| ```par``` | Passive-Agressive regressor |\n",
        "| ```ransac``` | Random Sample Consensus |\n",
        "| ```tr``` | TheilSen Regressor |\n",
        "| ```huber``` | Huber Regressor |\n",
        "| ```kr``` | Kernel Ridge |\n",
        "| ```svm``` | Support Vector Machines |\n",
        "| ```knn``` | K-neighbors regressor |\n",
        "| ```dt``` | Decision Tree |\n",
        "| ```rf``` | Random Forest |\n",
        "| ```et``` | Extra Trees Regressor |\n",
        "| ```ada``` | AdaBoost Regressor |\n",
        "| ```gbr``` | Gradient Boosting Regressor |\n",
        "| ```mlp``` | Multi Level Perceptron |\n",
        "| ```xgboost``` | Extreme Gradient Boosting |\n",
        "| ```lightbm``` | Light Gradient Boosting |\n",
        "| ```catboost``` | CatBoost Gradient |\n"
      ],
      "metadata": {
        "id": "maJcgKb84POs"
      }
    },
    {
      "cell_type": "code",
      "source": [
        "model = setup(pokemondf, target='Legendary')"
      ],
      "metadata": {
        "id": "sfPBJj4n8cOL"
      },
      "execution_count": null,
      "outputs": []
    },
    {
      "cell_type": "code",
      "source": [
        "compare_models()"
      ],
      "metadata": {
        "id": "HdL1eJ598kmb"
      },
      "execution_count": null,
      "outputs": []
    },
    {
      "cell_type": "code",
      "source": [
        "lr = create_model('lr')"
      ],
      "metadata": {
        "id": "i9Rj-6-h8mqn"
      },
      "execution_count": null,
      "outputs": []
    },
    {
      "cell_type": "code",
      "source": [
        "plot_model(lr, plot = 'confusion_matrix')"
      ],
      "metadata": {
        "id": "RlkN4zdo81Ch"
      },
      "execution_count": null,
      "outputs": []
    },
    {
      "cell_type": "code",
      "source": [
        "interpret_model(lr)"
      ],
      "metadata": {
        "id": "9DH9fN5-88Tn"
      },
      "execution_count": null,
      "outputs": []
    },
    {
      "cell_type": "code",
      "source": [
        "interpret_model(lr, plot = 'reason', observation=1)"
      ],
      "metadata": {
        "id": "D64e0mPt9Ax8"
      },
      "execution_count": null,
      "outputs": []
    }
  ]
}