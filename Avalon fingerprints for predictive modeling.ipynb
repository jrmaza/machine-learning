{
  "cells": [
    {
      "cell_type": "markdown",
      "metadata": {
        "id": "view-in-github",
        "colab_type": "text"
      },
      "source": [
        "<a href=\"https://colab.research.google.com/github/jrmaza/machine-learning/blob/main/Avalon%20fingerprints%20for%20predictive%20modeling.ipynb\" target=\"_parent\"><img src=\"https://colab.research.google.com/assets/colab-badge.svg\" alt=\"Open In Colab\"/></a>"
      ]
    },
    {
      "cell_type": "code",
      "source": [
        "!!pip install rdkit-pypi==2022.3.1.1"
      ],
      "metadata": {
        "id": "n8f3bQheYtm9"
      },
      "execution_count": null,
      "outputs": []
    },
    {
      "cell_type": "markdown",
      "metadata": {
        "id": "8fVDacKSL67w"
      },
      "source": [
        "#### In the previous [molecular fingerprints video](https://www.youtube.com/watch?v=-oHqQBUyrQ0), we saw how to generate molecular fingerprints and use them for structure search."
      ]
    },
    {
      "cell_type": "markdown",
      "metadata": {
        "id": "JladC8PDL67w"
      },
      "source": [
        "#### In this notebook, I will use Avalon fingerprints to develop predictive models for molecular property (energy gap) and reactions outcome (yield and enantioselectivity).\n",
        "* HOMO-LUMO energy gap of organic compouds\n",
        "* Yield Prediction of C–N cross coupling reactions\n",
        "* Catalytic enantioselectivity of thiol-imine reactions"
      ]
    },
    {
      "cell_type": "markdown",
      "metadata": {
        "id": "wGF7QAS0L67x"
      },
      "source": [
        "<div>\n",
        "    <img src = \"Fingerprints_predictive.JPG\", width=\"600\">\n",
        "</div>"
      ]
    },
    {
      "cell_type": "code",
      "execution_count": null,
      "metadata": {
        "id": "Oc2KeTuKL67x"
      },
      "outputs": [],
      "source": [
        "import pandas as pd\n",
        "import numpy as np\n",
        "import seaborn as sns\n",
        "import matplotlib.pyplot as plt\n",
        "import matplotlib.patches as mpatches\n",
        "#-------------------------------------------------------\n",
        "from rdkit.Chem import AllChem\n",
        "from rdkit import Chem\n",
        "from rdkit.DataStructs.cDataStructs import ExplicitBitVect\n",
        "from rdkit.Avalon import pyAvalonTools\n",
        "from rdkit.Chem import PandasTools\n",
        "from rdkit.Chem import rdMolDescriptors\n",
        "from tqdm import tqdm\n",
        "#--------------------------------------------------------\n",
        "from sklearn.metrics import r2_score, mean_absolute_error, mean_squared_error\n",
        "from sklearn.ensemble import RandomForestRegressor\n",
        "import time\n",
        "from sklearn.model_selection import ShuffleSplit, cross_validate,train_test_split\n",
        "#--------------------------------------------------------\n",
        "from lightgbm import LGBMRegressor"
      ]
    },
    {
      "cell_type": "markdown",
      "metadata": {
        "id": "5y1avcftL67y"
      },
      "source": [
        "### Dataset obtained [Sandfort et al.](https://zivgitlab.uni-muenster.de/m_kueh11/fp-dm-tool)."
      ]
    },
    {
      "cell_type": "markdown",
      "metadata": {
        "id": "4KxOBxTSL67y"
      },
      "source": [
        "\n",
        "<div style= \" border-style:dotted;text-align:left;color:blue;font-size:25px;border-radius: 10px;padding: 20px 20px;\">\n",
        "1. HOMO-LUMO energy gap of molecules. \n",
        "\n",
        "</div>\n"
      ]
    },
    {
      "cell_type": "code",
      "execution_count": null,
      "metadata": {
        "id": "eB9ASbNFL67y"
      },
      "outputs": [],
      "source": [
        "# Reference for the datasets: https://zivgitlab.uni-muenster.de/m_kueh11/fp-dm-tool\n",
        "\n",
        "dataset = pd.read_csv(\"https://raw.githubusercontent.com/gashawmg/Avalon-fingerprints-for-machine-learning/main/Orbital_Energies_input_data.csv\")\n",
        "dataset.head()"
      ]
    },
    {
      "cell_type": "code",
      "execution_count": null,
      "metadata": {
        "id": "S_3Um7OcL67z"
      },
      "outputs": [],
      "source": [
        "dataset.shape"
      ]
    },
    {
      "cell_type": "code",
      "execution_count": null,
      "metadata": {
        "id": "_pph-oFlL67z"
      },
      "outputs": [],
      "source": [
        "# Include 2D structure of molecules\n",
        "PandasTools.AddMoleculeColumnToFrame(dataset,'SMILES','Stucture',includeFingerprints=True)"
      ]
    },
    {
      "cell_type": "code",
      "execution_count": null,
      "metadata": {
        "id": "7jbCj2SaL670"
      },
      "outputs": [],
      "source": [
        "dataset.head()"
      ]
    },
    {
      "cell_type": "markdown",
      "metadata": {
        "id": "3113Ql8wL670"
      },
      "source": [
        "<div style= \" border-style:dotted;text-align:left;color:purple;font-size:20px;border-radius: 10px;padding: 20px 20px;\"> \n",
        "    \n",
        "* Function defination for generating Avalon molecular fingerprints using RDKit\n",
        "</div>"
      ]
    },
    {
      "cell_type": "code",
      "execution_count": null,
      "metadata": {
        "id": "MbemgnLiL670"
      },
      "outputs": [],
      "source": [
        "def generate_AVfpts(data):\n",
        "    \n",
        "    # Store fingerprints using empty lists\n",
        "    \n",
        "    Avalon_fpts = []\n",
        "    \n",
        "    # Here no need to generate mol files\n",
        "    # We can directly use the structure column of the data frame\n",
        "    # mols = [Chem.MolFromSmiles(x) for x in data if x is not None]\n",
        "    for mol in tqdm(data):\n",
        "      \n",
        "               \n",
        "        #=============================\n",
        "        # calculate Avalon fingerprints\n",
        "        #=============================\n",
        "        avfpts = pyAvalonTools.GetAvalonFP(mol, nBits=4096)\n",
        "        Avalon_fpts.append(avfpts)\n",
        "        \n",
        "        \n",
        "    #=====append=========================\n",
        "    # return the lists as numpy array \n",
        "    #====================================\n",
        "    return np.array(Avalon_fpts)"
      ]
    },
    {
      "cell_type": "markdown",
      "metadata": {
        "id": "q7fHnN8SL670"
      },
      "source": [
        "<div style= \"border-style:dotted;text-align:left;color:darkblue;font-size:20px;border-radius: 10px;padding: 20px 20px;\"> \n",
        "    \n",
        "* Function call to generate Avalon molecular fingerprints of compounds that have HOMO-LUMO energy gap.\n",
        "</div>"
      ]
    },
    {
      "cell_type": "code",
      "execution_count": null,
      "metadata": {
        "id": "xwBhnR83L671"
      },
      "outputs": [],
      "source": [
        "# Function call\n",
        "Avalon_fpts = generate_AVfpts(dataset['Stucture'])"
      ]
    },
    {
      "cell_type": "markdown",
      "metadata": {
        "id": "TT9MxWvjL671"
      },
      "source": [
        "### Put the fingerprints in dataframe"
      ]
    },
    {
      "cell_type": "code",
      "execution_count": null,
      "metadata": {
        "id": "zF6rfHzjL671"
      },
      "outputs": [],
      "source": [
        "# Put Avalon fingerprints into Dataframe\n",
        "Avalon_fingerprints = pd.DataFrame(Avalon_fpts, columns=['AvFp_{}'.format(i + 1) \n",
        "                                                        for i in range(Avalon_fpts.shape[1])])"
      ]
    },
    {
      "cell_type": "code",
      "execution_count": null,
      "metadata": {
        "id": "dMFhpIpCL671"
      },
      "outputs": [],
      "source": [
        "Avalon_fingerprints.head()"
      ]
    },
    {
      "cell_type": "code",
      "execution_count": null,
      "metadata": {
        "id": "xIUI-JlxL671"
      },
      "outputs": [],
      "source": [
        "# Instantiate the models\n",
        "lgbm_av = LGBMRegressor(n_estimators=800, random_state=42)\n",
        "model_rf = RandomForestRegressor(random_state=42)"
      ]
    },
    {
      "cell_type": "markdown",
      "metadata": {
        "id": "MoxxGqlVL671"
      },
      "source": [
        "<div style= \"border-style:dotted;text-align:left;color:darkblue;font-size:20px;border-radius: 10px;padding: 20px 20px;\"> \n",
        "10 fold cross-validation using 4,096 bits of Avalon fingerprints\n",
        "</div>"
      ]
    },
    {
      "cell_type": "code",
      "execution_count": null,
      "metadata": {
        "id": "0PZ9Su-wL671"
      },
      "outputs": [],
      "source": [
        "# start time\n",
        "start = time.time()\n",
        "\n",
        "# tenfold cross-validation\n",
        "cv = ShuffleSplit(n_splits=10, test_size=0.3, random_state=42)\n",
        "scoring = ['r2','neg_mean_absolute_error']\n",
        "\n",
        "scores_val = cross_validate(lgbm_av, Avalon_fingerprints,  dataset.Energygap, scoring=scoring, cv=cv)\n",
        "\n",
        "print(scores_val)\n",
        "\n",
        "time.sleep(3)\n",
        "# get the end time\n",
        "end = time.time()\n",
        "\n",
        "# get the execution time\n",
        "total_time = end - start\n",
        "print('Total time required:', round(total_time/60, 2), 'min')"
      ]
    },
    {
      "cell_type": "code",
      "execution_count": null,
      "metadata": {
        "id": "gf2M_tpfL672"
      },
      "outputs": [],
      "source": [
        "# R^2 of coefficient of determination of tenfold cross validation\n",
        "scores_val['test_r2']"
      ]
    },
    {
      "cell_type": "code",
      "execution_count": null,
      "metadata": {
        "id": "6JLqbbm6L672"
      },
      "outputs": [],
      "source": [
        "# Mean absolute error (MAE) of the tenfold cross validation values\n",
        "-scores_val['test_neg_mean_absolute_error']"
      ]
    },
    {
      "cell_type": "code",
      "execution_count": null,
      "metadata": {
        "id": "H5jbRHe1L672"
      },
      "outputs": [],
      "source": [
        "# Mean values of tenfold cross-validation values of R^2 and MAE \n",
        "# Using lightGBM\n",
        "\n",
        "print(\"R^2 :\", round(np.mean(scores_val['test_r2']), 2))\n",
        "print(\"MAE :\", round(np.mean(-scores_val['test_neg_mean_absolute_error']), 2))"
      ]
    },
    {
      "cell_type": "markdown",
      "metadata": {
        "id": "sT8jNoh9L672"
      },
      "source": [
        "Compared with published result: [Sandfort et al's](https://www.sciencedirect.com/science/article/pii/S2451929420300851) work.\n",
        "<div>\n",
        "    <img src=\"https://github.com/gashawmg/Avalon-fingerprints-for-machine-learning/blob/main/HUMO_LUMO.JPG?raw=1\", align = \"left\", width = \"500\">\n",
        "    </div"
      ]
    },
    {
      "cell_type": "markdown",
      "metadata": {
        "id": "ZwpNQ-tHL672"
      },
      "source": [
        "[ See supporting information of the paper ](https://zivgitlab.uni-muenster.de/m_kueh11/fp-dm-tool)\n",
        ".Note this information is found on page 5 in the supporting information \n",
        "\n",
        "<div>\n",
        "<img src= \"Feature Preprocessing.JPG\",align = \"left\", width = \"600\" />\n",
        " </div>"
      ]
    },
    {
      "cell_type": "markdown",
      "metadata": {
        "id": "KP1rMGY0L672"
      },
      "source": [
        "## 1.  Train-test data split  for Avalon fingerprints"
      ]
    },
    {
      "cell_type": "code",
      "execution_count": null,
      "metadata": {
        "id": "h_Ry9S6dL672"
      },
      "outputs": [],
      "source": [
        "X_train_av, X_test_av, y_train_av, y_test_av = train_test_split(Avalon_fingerprints,\n",
        "                                                    dataset.Energygap,test_size=0.3,random_state=42)"
      ]
    },
    {
      "cell_type": "code",
      "execution_count": null,
      "metadata": {
        "id": "T4iNScqzL672"
      },
      "outputs": [],
      "source": [
        "# Model training and test\n",
        "model_av = lgbm_av.fit(X_train_av,y_train_av)\n",
        "predict_av = model_av.predict(X_test_av)"
      ]
    },
    {
      "cell_type": "code",
      "execution_count": null,
      "metadata": {
        "id": "2aC3KoNzL673",
        "outputId": "6f5ff69a-c49b-4de5-c89e-fecea6720331",
        "colab": {
          "base_uri": "https://localhost:8080/"
        }
      },
      "outputs": [
        {
          "output_type": "stream",
          "name": "stdout",
          "text": [
            "MAE: 5.79\n"
          ]
        }
      ],
      "source": [
        "# Model performance using MAE\n",
        "MAE_av = mean_absolute_error(y_test_av, predict_av)\n",
        "print('MAE:', round(MAE_av,2))"
      ]
    },
    {
      "cell_type": "code",
      "execution_count": null,
      "metadata": {
        "id": "H7Xv9DffL673",
        "outputId": "bc4a0e76-01cb-4999-d33e-b07b794c19f3",
        "colab": {
          "base_uri": "https://localhost:8080/"
        }
      },
      "outputs": [
        {
          "output_type": "stream",
          "name": "stdout",
          "text": [
            "R^2: 0.91\n"
          ]
        }
      ],
      "source": [
        "# R^2 (coefficient of determination) regression score function: \n",
        "R2_av =r2_score(y_test_av, predict_av)\n",
        "print('R^2:', round(R2_av,2))"
      ]
    },
    {
      "cell_type": "code",
      "execution_count": null,
      "metadata": {
        "id": "7GSaUJshL673"
      },
      "outputs": [],
      "source": [
        "sns.regplot(x=predict_av, y=y_test_av,line_kws={\"lw\":2,'ls':'--','color':'black',\"alpha\":0.7})\n",
        "plt.xlabel('Predicted Energy gap', color='blue')\n",
        "plt.ylabel('Observed Energy gap', color ='blue')\n",
        "plt.title(\"Avalon fpts HOMO-LUMO Energy Gap Prediction\", color='red')\n",
        "plt.grid(alpha=0.2)\n",
        "R2_av = mpatches.Patch(label=\"R2={:04.2f}\".format(R2_av))\n",
        "MAE_av = mpatches.Patch(label=\"MAE={:04.2f}\".format(MAE_av))\n",
        "plt.legend(handles=[R2_av, MAE_av])"
      ]
    },
    {
      "cell_type": "markdown",
      "metadata": {
        "id": "SfSv6A-ZL673"
      },
      "source": [
        "# 2. **Yield Prediction: C–N cross coupling reactions**\n"
      ]
    },
    {
      "cell_type": "markdown",
      "metadata": {
        "id": "FkUiFxagL673"
      },
      "source": [
        "Reference:[Ahneman et al](https://scholar.google.com/scholar?hl=en&as_sdt=0%2C14&q=Predicting+reaction+performance+in+C%E2%80%93N+cross-coupling+using+machine+learning&btnG=).\n",
        "and [for supplemental information](https://www.science.org/doi/abs/10.1126/science.aar5169)\n",
        "\n",
        "<div>\n",
        "    <img src=\"https://github.com/gashawmg/Avalon-fingerprints-for-machine-learning/blob/main/buchwald.JPG?raw=1\" width=\"700\",align =\"left\"/>\n",
        "</div>"
      ]
    },
    {
      "cell_type": "markdown",
      "metadata": {
        "id": "k4T9Ne2wL673"
      },
      "source": [
        "* Used 1536 plate (3 plates => 3 x 1536 (32 x 48)  = 4608)\n",
        "* Removed control reactions and additive 7 \n",
        "* 3,960 reactions were used for machine learning.\n",
        "* Determined yield UPLC, di-tert-butylbiphenyl as internal standard (probably using response factor)\n",
        "### Computed Descriptors (120)\n",
        "* B3LYP/6-31G*\n",
        "### Calculated various descriptors: \n",
        "* electrostatic charge and NMR shift.\n",
        "* molecular volume, \n",
        "* surface area, ovality, molecular weight, HOMO,  \n",
        "* LUMO, electronegativity, hardness, dipole moment,\n",
        "* frequency and intensity."
      ]
    },
    {
      "cell_type": "markdown",
      "metadata": {
        "id": "h7o-kdheL673"
      },
      "source": [
        "### Generated 120 computed descriptors\n",
        "* Additive Descriptors (19)\n",
        "* Aryl Halide Descriptors ( 27)\n",
        "* Base Descriptors (10)\n",
        "* Ligand Descriptors (64)"
      ]
    },
    {
      "cell_type": "markdown",
      "metadata": {
        "id": "qpFw2-uKL674"
      },
      "source": [
        "<div>\n",
        "    <img src=\"https://github.com/gashawmg/Avalon-fingerprints-for-machine-learning/blob/main/Buchwald_RF.JPG?raw=1\" width=\"600\",align =\"left\"/>\n",
        "</div>\n"
      ]
    },
    {
      "cell_type": "markdown",
      "metadata": {
        "id": "H6yU-e4OL674"
      },
      "source": [
        "There was an excel file that I downloaded converted it to csv file from this reference. [Sandfort et al](https://zivgitlab.uni-muenster.de/m_kueh11/fp-dm-tool). "
      ]
    },
    {
      "cell_type": "code",
      "execution_count": null,
      "metadata": {
        "id": "dafxGtFDL674"
      },
      "outputs": [],
      "source": [
        "# Read data frame\n",
        "data = pd.read_csv('https://raw.githubusercontent.com/gashawmg/Avalon-fingerprints-for-machine-learning/main/Buchwald_yield_data.csv')\n",
        "data"
      ]
    },
    {
      "cell_type": "code",
      "execution_count": null,
      "metadata": {
        "id": "8S3eiHRNL674"
      },
      "outputs": [],
      "source": [
        "def Calculate_Avfps(data,nBits):\n",
        "    \n",
        "    # Store fingerprints using empty lists\n",
        "    Avalon_fpts = []\n",
        "           \n",
        "    mols = [Chem.MolFromSmiles(x) for x in data if x is not None]\n",
        "    for mol in tqdm(mols):\n",
        "        \n",
        "               \n",
        "        #=============================\n",
        "        # calculate Avalon fingerprints\n",
        "        #=============================\n",
        "        avfpts = pyAvalonTools.GetAvalonFP(mol, nBits=nBits)\n",
        "        Avalon_fpts.append(avfpts)\n",
        "        \n",
        "       \n",
        "    #=================================\n",
        "    # return the lists as numpy array \n",
        "    #=================================\n",
        "    return np.array(Avalon_fpts)"
      ]
    },
    {
      "cell_type": "markdown",
      "metadata": {
        "id": "GJaH6dMrL674"
      },
      "source": [
        "## Calculate fingerprints for reactants"
      ]
    },
    {
      "cell_type": "code",
      "execution_count": null,
      "metadata": {
        "id": "WH7YHNiZL674"
      },
      "outputs": [],
      "source": [
        "ligand_fpts =  Calculate_Avfps(data['Ligand'], 2048) # ligands are relatively bigger than the other reagents\n",
        "additive_fpts =  Calculate_Avfps(data['Additive'], 1024)\n",
        "base_fpts =  Calculate_Avfps(data['Base'], 1024)\n",
        "Aryl_fpts =  Calculate_Avfps(data['Aryl halide'], 1024)"
      ]
    },
    {
      "cell_type": "markdown",
      "metadata": {
        "id": "4bjgGZH0L674"
      },
      "source": [
        "## Concatenate fingerprints of starting materials\n",
        "Similar to [Sandfort et al's](https://www.sciencedirect.com/science/article/pii/S2451929420300851) work."
      ]
    },
    {
      "cell_type": "code",
      "execution_count": null,
      "metadata": {
        "id": "n_UiU6G9L674",
        "outputId": "ac9ed50e-47ff-4ce8-e302-169295b3fec6",
        "colab": {
          "base_uri": "https://localhost:8080/"
        }
      },
      "outputs": [
        {
          "output_type": "execute_result",
          "data": {
            "text/plain": [
              "(3955, 5120)"
            ]
          },
          "metadata": {},
          "execution_count": 25
        }
      ],
      "source": [
        "# concatenate the fingerprints of the four variables \n",
        "# note that the order of concatenation should not matter\n",
        "\n",
        "concatenated = np.concatenate([ligand_fpts, additive_fpts, base_fpts, Aryl_fpts], axis=1)\n",
        "concatenated.shape"
      ]
    },
    {
      "cell_type": "code",
      "execution_count": null,
      "metadata": {
        "id": "qayVYn9iL674"
      },
      "outputs": [],
      "source": [
        "# Put them in a data frame\n",
        "concatenated_df = pd.DataFrame(concatenated,columns=['AvFp_{}'.format(i + 1) for i in range(concatenated.shape[1])])\n",
        "concatenated_df.head()"
      ]
    },
    {
      "cell_type": "code",
      "execution_count": null,
      "metadata": {
        "id": "a10kv3QML675"
      },
      "outputs": [],
      "source": [
        "# start time\n",
        "start = time.time()\n",
        "\n",
        "# from Sklearn -shuffle and split data \n",
        "cv = ShuffleSplit(n_splits=10, test_size=0.3, random_state=42)\n",
        "\n",
        "scoring = ['r2','neg_root_mean_squared_error'] \n",
        "\n",
        "scores_CN = cross_validate(lgbm_av, concatenated_df,  data.Output, scoring=scoring, cv=cv)\n",
        "\n",
        "\n",
        "print(scores_CN)\n",
        "# wait for 3 seconds\n",
        "\n",
        "time.sleep(3)\n",
        "# get the end time\n",
        "end = time.time()\n",
        "\n",
        "# get the execution time\n",
        "total_time = end - start\n",
        "print('Total time required:', round(total_time/60, 2), 'min') # takes about 0.27 min"
      ]
    },
    {
      "cell_type": "markdown",
      "metadata": {
        "id": "sHwoChdWL675"
      },
      "source": [
        "### Notes: Avalon fingerprints used,  for each reagent 1024 bits used except the ligands. The ligands are relatively bigger, and 2048 bits were used."
      ]
    },
    {
      "cell_type": "code",
      "execution_count": null,
      "metadata": {
        "id": "fIyI01VXL675"
      },
      "outputs": [],
      "source": [
        "scores_CN['test_r2']"
      ]
    },
    {
      "cell_type": "code",
      "execution_count": null,
      "metadata": {
        "id": "mqN5pSvKL675"
      },
      "outputs": [],
      "source": [
        "# Mean values of tenfold cross-validation values of R^2 and RMSE\n",
        "\n",
        "print(\"R^2 :\", round(np.mean(scores_CN['test_r2']), 2))\n",
        "print(\"RMSE :\", round(np.mean(-scores_CN['test_neg_root_mean_squared_error']), 2))"
      ]
    },
    {
      "cell_type": "markdown",
      "metadata": {
        "id": "zYlPbSWEL675"
      },
      "source": [
        "[ Ahneman et al.](https://doylecpanel.cpaneldev.princeton.edu/wp-content/uploads/2020/07/43-Predicting-Reaction-Performance-in-C-N-Cross-Coupling-Using-Machine-Learning.pdf) <br>\n",
        "[Sandfort et al.](https://www.sciencedirect.com/science/article/pii/S2451929420300851)\n",
        "\n",
        "<table>  \n",
        "    <tr>\n",
        "     <td><img src = \"Buchwald_performance.JPG\", align = \"left\", width = \"400\"/></td>\n",
        "     <td><img src=\"https://github.com/gashawmg/Avalon-fingerprints-for-machine-learning/blob/main/Buchwald_RF.JPG?raw=1\" width=\"600\",align =\"left\"/>\n",
        "     </td>\n",
        "    </tr>\n",
        "</table>\n"
      ]
    },
    {
      "cell_type": "markdown",
      "metadata": {
        "id": "RQyrVI53L675"
      },
      "source": [
        "[ See supporting information of the paper](https://zivgitlab.uni-muenster.de/m_kueh11/fp-dm-tool)\n",
        "\n",
        "\n",
        "<div>\n",
        "<img src= \"Feature Preprocessing.JPG\",align = \"left\", width = \"600\" />\n",
        " </div>"
      ]
    },
    {
      "cell_type": "code",
      "execution_count": null,
      "metadata": {
        "id": "1GAjamm2L675"
      },
      "outputs": [],
      "source": [
        "# Train-test split\n",
        "X_train, X_test, y_train, y_test = train_test_split(concatenated_df, data.Output, \n",
        "                                                test_size = 0.3, shuffle=True,random_state=42)"
      ]
    },
    {
      "cell_type": "code",
      "execution_count": null,
      "metadata": {
        "id": "i8nrEloQL675"
      },
      "outputs": [],
      "source": [
        "# Model training and prediction\n",
        "# All the features are used\n",
        "model_all_feature = LGBMRegressor(n_estimators=800,random_state=42)\n",
        "model_all_feature.fit(X_train,y_train)\n",
        "predicted_yield_all_feature = model_all_feature.predict(X_test)"
      ]
    },
    {
      "cell_type": "code",
      "execution_count": null,
      "metadata": {
        "id": "QZ_8sRnAL675"
      },
      "outputs": [],
      "source": [
        "# Calculate root-mean-squared error (RMSE) & coefficient of determination\n",
        "RMSE_all =np.sqrt(mean_squared_error(y_test, predicted_yield_all_feature))\n",
        "R2_all = r2_score(y_test, predicted_yield_all_feature)\n",
        "print('RMSE: ',round(RMSE_all,2))\n",
        "print('R2: ', round(R2_all,2))"
      ]
    },
    {
      "cell_type": "code",
      "execution_count": null,
      "metadata": {
        "id": "BcqMxPwtL675"
      },
      "outputs": [],
      "source": [
        "# Plot predicted and observed yields\n",
        "plt.figure(figsize=(5,5))\n",
        "sns.regplot(x=predicted_yield_all_feature, y=y_test,line_kws={\"lw\":2,'ls':'--','color':'black',\"alpha\":0.7})\n",
        "plt.xlabel('Predicted Yield', color='blue')\n",
        "plt.ylabel('Observed Yield', color ='blue')\n",
        "plt.xlim(0,100)\n",
        "plt.ylim(0,100)\n",
        "plt.title(\"Yield prediction for C-N cross-coupling\", color='red')\n",
        "plt.grid(alpha=0.2)\n",
        "R2_all = mpatches.Patch(label=\"R2={:04.2f}\".format(R2_all))\n",
        "RMSE_all = mpatches.Patch(label=\"RMSE={:4.2f}\".format(RMSE_all))\n",
        "plt.legend(handles=[R2_all, RMSE_all])"
      ]
    },
    {
      "cell_type": "markdown",
      "metadata": {
        "id": "ItaVeUfDL676"
      },
      "source": [
        "# 3. **Prediction of Enantioselectivity**"
      ]
    },
    {
      "cell_type": "markdown",
      "metadata": {
        "id": "u9_fbA19L676"
      },
      "source": [
        "\n",
        "<div>\n",
        "    <img src = \"Enantioselective.JPG\", width = \"500\">\n",
        "  </div>\n",
        "    \n",
        "  Reference 1: [Zahrt et al ](https://www.ncbi.nlm.nih.gov/pmc/articles/PMC6417887/)  \n",
        "  Reference 2: [Sandfort et al ](https://www.sciencedirect.com/science/article/pii/S2451929420300851) "
      ]
    },
    {
      "cell_type": "code",
      "execution_count": null,
      "metadata": {
        "id": "kcLq_EXwL676",
        "outputId": "2db63ffe-6409-41b8-f3c8-9e0bc8b71c57",
        "colab": {
          "base_uri": "https://localhost:8080/",
          "height": 206
        }
      },
      "outputs": [
        {
          "output_type": "execute_result",
          "data": {
            "text/plain": [
              "                                            Catalyst  \\\n",
              "0  O=P1(O)OC2=C(C3=CC=CC=C3)C=C4C(C=CC=C4)=C2C5=C...   \n",
              "1  O=P1(O)OC2=C(C3=CC=CC=C3)C=C4C(C=CC=C4)=C2C5=C...   \n",
              "2  O=P1(O)OC2=C(C3=CC=CC=C3)C=C4C(C=CC=C4)=C2C5=C...   \n",
              "3  O=P1(O)OC2=C(C3=CC=CC=C3)C=C4C(C=CC=C4)=C2C5=C...   \n",
              "4  O=P1(O)OC2=C(C3=CC=CC=C3)C=C4C(C=CC=C4)=C2C5=C...   \n",
              "\n",
              "                                        Imine             Thiol    Output  \n",
              "0            O=C(C1=CC=CC=C1)/N=C/C2=CC=CC=C2      SC1=CC=CC=C1  1.179891  \n",
              "1            O=C(C1=CC=CC=C1)/N=C/C2=CC=CC=C2               CCS  0.501759  \n",
              "2            O=C(C1=CC=CC=C1)/N=C/C2=CC=CC=C2         SC1CCCCC1  0.650584  \n",
              "3            O=C(C1=CC=CC=C1)/N=C/C2=CC=CC=C2  SC1=CC=C(OC)C=C1  1.238109  \n",
              "4  O=C(C1=CC=CC=C1)/N=C/C2=CC=C(C(F)(F)F)C=C2      SC1=CC=CC=C1  1.179891  "
            ],
            "text/html": [
              "\n",
              "  <div id=\"df-a7d06017-10ec-4814-a490-04820967a0b0\">\n",
              "    <div class=\"colab-df-container\">\n",
              "      <div>\n",
              "<style scoped>\n",
              "    .dataframe tbody tr th:only-of-type {\n",
              "        vertical-align: middle;\n",
              "    }\n",
              "\n",
              "    .dataframe tbody tr th {\n",
              "        vertical-align: top;\n",
              "    }\n",
              "\n",
              "    .dataframe thead th {\n",
              "        text-align: right;\n",
              "    }\n",
              "</style>\n",
              "<table border=\"1\" class=\"dataframe\">\n",
              "  <thead>\n",
              "    <tr style=\"text-align: right;\">\n",
              "      <th></th>\n",
              "      <th>Catalyst</th>\n",
              "      <th>Imine</th>\n",
              "      <th>Thiol</th>\n",
              "      <th>Output</th>\n",
              "    </tr>\n",
              "  </thead>\n",
              "  <tbody>\n",
              "    <tr>\n",
              "      <th>0</th>\n",
              "      <td>O=P1(O)OC2=C(C3=CC=CC=C3)C=C4C(C=CC=C4)=C2C5=C...</td>\n",
              "      <td>O=C(C1=CC=CC=C1)/N=C/C2=CC=CC=C2</td>\n",
              "      <td>SC1=CC=CC=C1</td>\n",
              "      <td>1.179891</td>\n",
              "    </tr>\n",
              "    <tr>\n",
              "      <th>1</th>\n",
              "      <td>O=P1(O)OC2=C(C3=CC=CC=C3)C=C4C(C=CC=C4)=C2C5=C...</td>\n",
              "      <td>O=C(C1=CC=CC=C1)/N=C/C2=CC=CC=C2</td>\n",
              "      <td>CCS</td>\n",
              "      <td>0.501759</td>\n",
              "    </tr>\n",
              "    <tr>\n",
              "      <th>2</th>\n",
              "      <td>O=P1(O)OC2=C(C3=CC=CC=C3)C=C4C(C=CC=C4)=C2C5=C...</td>\n",
              "      <td>O=C(C1=CC=CC=C1)/N=C/C2=CC=CC=C2</td>\n",
              "      <td>SC1CCCCC1</td>\n",
              "      <td>0.650584</td>\n",
              "    </tr>\n",
              "    <tr>\n",
              "      <th>3</th>\n",
              "      <td>O=P1(O)OC2=C(C3=CC=CC=C3)C=C4C(C=CC=C4)=C2C5=C...</td>\n",
              "      <td>O=C(C1=CC=CC=C1)/N=C/C2=CC=CC=C2</td>\n",
              "      <td>SC1=CC=C(OC)C=C1</td>\n",
              "      <td>1.238109</td>\n",
              "    </tr>\n",
              "    <tr>\n",
              "      <th>4</th>\n",
              "      <td>O=P1(O)OC2=C(C3=CC=CC=C3)C=C4C(C=CC=C4)=C2C5=C...</td>\n",
              "      <td>O=C(C1=CC=CC=C1)/N=C/C2=CC=C(C(F)(F)F)C=C2</td>\n",
              "      <td>SC1=CC=CC=C1</td>\n",
              "      <td>1.179891</td>\n",
              "    </tr>\n",
              "  </tbody>\n",
              "</table>\n",
              "</div>\n",
              "      <button class=\"colab-df-convert\" onclick=\"convertToInteractive('df-a7d06017-10ec-4814-a490-04820967a0b0')\"\n",
              "              title=\"Convert this dataframe to an interactive table.\"\n",
              "              style=\"display:none;\">\n",
              "        \n",
              "  <svg xmlns=\"http://www.w3.org/2000/svg\" height=\"24px\"viewBox=\"0 0 24 24\"\n",
              "       width=\"24px\">\n",
              "    <path d=\"M0 0h24v24H0V0z\" fill=\"none\"/>\n",
              "    <path d=\"M18.56 5.44l.94 2.06.94-2.06 2.06-.94-2.06-.94-.94-2.06-.94 2.06-2.06.94zm-11 1L8.5 8.5l.94-2.06 2.06-.94-2.06-.94L8.5 2.5l-.94 2.06-2.06.94zm10 10l.94 2.06.94-2.06 2.06-.94-2.06-.94-.94-2.06-.94 2.06-2.06.94z\"/><path d=\"M17.41 7.96l-1.37-1.37c-.4-.4-.92-.59-1.43-.59-.52 0-1.04.2-1.43.59L10.3 9.45l-7.72 7.72c-.78.78-.78 2.05 0 2.83L4 21.41c.39.39.9.59 1.41.59.51 0 1.02-.2 1.41-.59l7.78-7.78 2.81-2.81c.8-.78.8-2.07 0-2.86zM5.41 20L4 18.59l7.72-7.72 1.47 1.35L5.41 20z\"/>\n",
              "  </svg>\n",
              "      </button>\n",
              "      \n",
              "  <style>\n",
              "    .colab-df-container {\n",
              "      display:flex;\n",
              "      flex-wrap:wrap;\n",
              "      gap: 12px;\n",
              "    }\n",
              "\n",
              "    .colab-df-convert {\n",
              "      background-color: #E8F0FE;\n",
              "      border: none;\n",
              "      border-radius: 50%;\n",
              "      cursor: pointer;\n",
              "      display: none;\n",
              "      fill: #1967D2;\n",
              "      height: 32px;\n",
              "      padding: 0 0 0 0;\n",
              "      width: 32px;\n",
              "    }\n",
              "\n",
              "    .colab-df-convert:hover {\n",
              "      background-color: #E2EBFA;\n",
              "      box-shadow: 0px 1px 2px rgba(60, 64, 67, 0.3), 0px 1px 3px 1px rgba(60, 64, 67, 0.15);\n",
              "      fill: #174EA6;\n",
              "    }\n",
              "\n",
              "    [theme=dark] .colab-df-convert {\n",
              "      background-color: #3B4455;\n",
              "      fill: #D2E3FC;\n",
              "    }\n",
              "\n",
              "    [theme=dark] .colab-df-convert:hover {\n",
              "      background-color: #434B5C;\n",
              "      box-shadow: 0px 1px 3px 1px rgba(0, 0, 0, 0.15);\n",
              "      filter: drop-shadow(0px 1px 2px rgba(0, 0, 0, 0.3));\n",
              "      fill: #FFFFFF;\n",
              "    }\n",
              "  </style>\n",
              "\n",
              "      <script>\n",
              "        const buttonEl =\n",
              "          document.querySelector('#df-a7d06017-10ec-4814-a490-04820967a0b0 button.colab-df-convert');\n",
              "        buttonEl.style.display =\n",
              "          google.colab.kernel.accessAllowed ? 'block' : 'none';\n",
              "\n",
              "        async function convertToInteractive(key) {\n",
              "          const element = document.querySelector('#df-a7d06017-10ec-4814-a490-04820967a0b0');\n",
              "          const dataTable =\n",
              "            await google.colab.kernel.invokeFunction('convertToInteractive',\n",
              "                                                     [key], {});\n",
              "          if (!dataTable) return;\n",
              "\n",
              "          const docLinkHtml = 'Like what you see? Visit the ' +\n",
              "            '<a target=\"_blank\" href=https://colab.research.google.com/notebooks/data_table.ipynb>data table notebook</a>'\n",
              "            + ' to learn more about interactive tables.';\n",
              "          element.innerHTML = '';\n",
              "          dataTable['output_type'] = 'display_data';\n",
              "          await google.colab.output.renderOutput(dataTable, element);\n",
              "          const docLink = document.createElement('div');\n",
              "          docLink.innerHTML = docLinkHtml;\n",
              "          element.appendChild(docLink);\n",
              "        }\n",
              "      </script>\n",
              "    </div>\n",
              "  </div>\n",
              "  "
            ]
          },
          "metadata": {},
          "execution_count": 34
        }
      ],
      "source": [
        "Enantioselective = pd.read_csv('https://raw.githubusercontent.com/gashawmg/Avalon-fingerprints-for-machine-learning/main/Denmark_input_data.csv')\n",
        "Enantioselective.head()"
      ]
    },
    {
      "cell_type": "code",
      "execution_count": null,
      "metadata": {
        "id": "fR1HDseKL676"
      },
      "outputs": [],
      "source": [
        "# Calculate fingerprints for reactants\n",
        "catalyst_fpts =  Calculate_Avfps(Enantioselective['Catalyst'], 2048)\n",
        "imine_fpts =  Calculate_Avfps(Enantioselective['Imine'], 1024)\n",
        "thiol_fpts =  Calculate_Avfps(Enantioselective['Thiol'], 1024)"
      ]
    },
    {
      "cell_type": "code",
      "execution_count": null,
      "metadata": {
        "id": "QM0X6NGdL676",
        "outputId": "badcfae2-6ec4-4fd6-aa32-49ecadf827e4",
        "colab": {
          "base_uri": "https://localhost:8080/"
        }
      },
      "outputs": [
        {
          "output_type": "execute_result",
          "data": {
            "text/plain": [
              "(1075, 4096)"
            ]
          },
          "metadata": {},
          "execution_count": 36
        }
      ],
      "source": [
        "# Concatenate fingerprints of starting materials\n",
        "concatenated_fpts = np.concatenate([catalyst_fpts,imine_fpts,thiol_fpts],axis=1)\n",
        "concatenated_fpts.shape"
      ]
    },
    {
      "cell_type": "code",
      "execution_count": null,
      "metadata": {
        "id": "m0y8Frm0L676"
      },
      "outputs": [],
      "source": [
        "# Put them in a dataframe\n",
        "Enan_concatenated_df = pd.DataFrame(concatenated_fpts,columns=['AvFp_{}'.format(i + 1) for i in range(concatenated_fpts.shape[1])])\n",
        "Enan_concatenated_df"
      ]
    },
    {
      "cell_type": "code",
      "execution_count": null,
      "metadata": {
        "id": "8rBzHf7lL676"
      },
      "outputs": [],
      "source": [
        "Enan_concatenated_df.shape"
      ]
    },
    {
      "cell_type": "code",
      "execution_count": null,
      "metadata": {
        "id": "PVYvf3OsL676"
      },
      "outputs": [],
      "source": [
        "# Random forest model for enantioselective reaction\n",
        "model_rf_enan = RandomForestRegressor(random_state=42)\n",
        "\n",
        "# start time\n",
        "start = time.time()\n",
        "\n",
        "# from Sklearn -shuffle and split data \n",
        "cv = ShuffleSplit(n_splits=10, test_size = 0.441, random_state=42)\n",
        "\n",
        "scoring = ['r2','neg_mean_absolute_error']\n",
        "scores_enan = cross_validate(model_rf_enan, Enan_concatenated_df,  Enantioselective.Output, scoring=scoring, cv=cv)\n",
        "\n",
        "\n",
        "print(scores_enan)\n",
        "# wait for 3 seconds\n",
        "\n",
        "time.sleep(3)\n",
        "# get the end time\n",
        "end = time.time()\n",
        "\n",
        "# get the execution time\n",
        "total_time = end - start\n",
        "print('Total time required:', round(total_time, 2), 'seconds') # takes about 19 seconds"
      ]
    },
    {
      "cell_type": "code",
      "execution_count": null,
      "metadata": {
        "id": "5KKLiuObL676"
      },
      "outputs": [],
      "source": [
        "# Mean values of tenfold cross-validation values of R^2 and MAE\n",
        "\n",
        "print(\"R^2 :\", round(np.mean(scores_enan['test_r2']), 3))\n",
        "print(\"MAE :\", round(np.mean(-scores_enan['test_neg_mean_absolute_error']), 3))"
      ]
    },
    {
      "cell_type": "markdown",
      "metadata": {
        "id": "JS6-COknL677"
      },
      "source": [
        " [Sandfort et al ](https://www.sciencedirect.com/science/article/pii/S2451929420300851) \n",
        "<div>\n",
        "   <img src = \"Enantioselective_graph.JPG\",align =\"left\", width = \"400\"/>\n",
        " </div>\n"
      ]
    },
    {
      "cell_type": "code",
      "execution_count": null,
      "metadata": {
        "id": "IvsFu4pkL677"
      },
      "outputs": [],
      "source": [
        "# Train-test split\n",
        "X_train_enan, X_test_enan, y_train_enan, y_test_enan = train_test_split(Enan_concatenated_df, Enantioselective.Output, \n",
        "                                                test_size = 0.441, shuffle=True,random_state=42)"
      ]
    },
    {
      "cell_type": "code",
      "execution_count": null,
      "metadata": {
        "id": "5TZ-VmTkL677"
      },
      "outputs": [],
      "source": [
        "# Model training and prediction\n",
        "# All the features are used\n",
        "model_enan = RandomForestRegressor(random_state=42)\n",
        "model_enan.fit(X_train_enan,y_train_enan)\n",
        "predicted_yield_enan = model_enan.predict(X_test_enan)"
      ]
    },
    {
      "cell_type": "code",
      "execution_count": null,
      "metadata": {
        "id": "qKzV7oCtL677"
      },
      "outputs": [],
      "source": [
        "# Calculate root-mean-squared error (RMSE) & coefficient of determination\n",
        "# Model performance using MAE\n",
        "MAE_enan = mean_absolute_error(y_test_enan, predicted_yield_enan)\n",
        "print('MAE:', round(MAE_enan,3))\n",
        "R2_enan = r2_score(y_test_enan, predicted_yield_enan)\n",
        "print('R2: ', round(R2_enan,2))"
      ]
    },
    {
      "cell_type": "code",
      "execution_count": null,
      "metadata": {
        "id": "3PaALIfjL677"
      },
      "outputs": [],
      "source": [
        "# Plot predicted and observed yields\n",
        "plt.figure(figsize=(5,5))\n",
        "sns.regplot(x=predicted_yield_enan, y=y_test_enan,line_kws={\"lw\":2,'ls':'--','color':'black',\"alpha\":0.7})\n",
        "plt.xlabel('Predicted (kcal/mol)', color='blue')\n",
        "plt.ylabel('Observed (kcal/mol)', color ='blue')\n",
        "plt.title(\"Random Forest for Enantioselectivity\", color='red')\n",
        "plt.grid(alpha=0.2)\n",
        "R2_enan = mpatches.Patch(label=\"R2={:04.2f}\".format(R2_enan))\n",
        "MAE_enan = mpatches.Patch(label=\"MAE={:4.3f}\".format(MAE_enan))\n",
        "plt.legend(handles=[R2_enan, MAE_enan])"
      ]
    },
    {
      "cell_type": "markdown",
      "metadata": {
        "id": "lOyOl3bcL677"
      },
      "source": [
        "<div style=\"text-align:left;color:blue;font-size:25px;border-radius: 10px;padding: 20px 20px;\"><strong>Practice Problems</strong></div>"
      ]
    },
    {
      "cell_type": "markdown",
      "metadata": {
        "id": "aqTORemCL677"
      },
      "source": [
        "1. Use any of the other molecular fingerprints that we calculated in the previous [video](https://www.youtube.com/watch?v=-oHqQBUyrQ0), and calculate the molecular fingerprints of each of the three datasets that we used in this video.\n",
        "2. Use a Random Forest model and apply a 10-fold cross-validation with 70% of the data for the training and 30% for testing. \n",
        "3. Compare your results with the results of Avalon fingerprints  "
      ]
    },
    {
      "cell_type": "markdown",
      "metadata": {
        "id": "Zid2OLELL677"
      },
      "source": [
        "<div style=\"text-align:left;color:green;font-size:25px;border-radius: 10px;padding: 20px 20px;\"><strong>Summary:</strong></div>\n",
        "Using Avalon fingerprints as an example, we have developed predictive models for three different types of chemistry problems, HOMO-LUMO energy gap, yield and enantioselective reactions. Hopefully, in the next video, I will show you how to combine results obtained from machine learning and molecular docking to identify potentially active compounds. Stay tuned!"
      ]
    }
  ],
  "metadata": {
    "kernelspec": {
      "display_name": "Python 3",
      "language": "python",
      "name": "python3"
    },
    "language_info": {
      "codemirror_mode": {
        "name": "ipython",
        "version": 3
      },
      "file_extension": ".py",
      "mimetype": "text/x-python",
      "name": "python",
      "nbconvert_exporter": "python",
      "pygments_lexer": "ipython3",
      "version": "3.8.5"
    },
    "colab": {
      "provenance": [],
      "include_colab_link": true
    }
  },
  "nbformat": 4,
  "nbformat_minor": 0
}