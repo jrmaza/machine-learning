{
  "nbformat": 4,
  "nbformat_minor": 0,
  "metadata": {
    "colab": {
      "provenance": [],
      "authorship_tag": "ABX9TyPp0ziOXY0elij8wL8rzXmh",
      "include_colab_link": true
    },
    "kernelspec": {
      "name": "python3",
      "display_name": "Python 3"
    },
    "language_info": {
      "name": "python"
    }
  },
  "cells": [
    {
      "cell_type": "markdown",
      "metadata": {
        "id": "view-in-github",
        "colab_type": "text"
      },
      "source": [
        "<a href=\"https://colab.research.google.com/github/jrmaza/machine-learning/blob/main/regresionlogistica.ipynb\" target=\"_parent\"><img src=\"https://colab.research.google.com/assets/colab-badge.svg\" alt=\"Open In Colab\"/></a>"
      ]
    },
    {
      "cell_type": "code",
      "source": [
        "import pandas as pd"
      ],
      "metadata": {
        "id": "QY-DBhGwDQfn"
      },
      "execution_count": null,
      "outputs": []
    },
    {
      "cell_type": "code",
      "execution_count": null,
      "metadata": {
        "id": "RwZBt-u8CIJb"
      },
      "outputs": [],
      "source": [
        "url_dengue = 'https://raw.githubusercontent.com/jrmaza/machine-learning/main/dengue_dataset.csv'"
      ]
    },
    {
      "cell_type": "code",
      "source": [
        "dengue = pd.read_csv(url_dengue)\n",
        "dengue = dengue.dropna()"
      ],
      "metadata": {
        "id": "R20ZALdkDTt2"
      },
      "execution_count": null,
      "outputs": []
    },
    {
      "cell_type": "code",
      "source": [
        "import sklearn\n",
        "from sklearn import linear_model\n",
        "from sklearn.model_selection import train_test_split\n",
        "from sklearn.linear_model import LogisticRegression"
      ],
      "metadata": {
        "id": "eeLE9uLqF3XU"
      },
      "execution_count": null,
      "outputs": []
    },
    {
      "cell_type": "code",
      "source": [
        "dengue.head()"
      ],
      "metadata": {
        "id": "4qj7jJYVDbSy"
      },
      "execution_count": null,
      "outputs": []
    },
    {
      "cell_type": "markdown",
      "source": [
        "| param | desc |\n",
        "| --- | ---|\n",
        "| humid | promedio de humedad |\n",
        "| humid90 | percentil de humedad |\n",
        "| temp | temperatura promedio |\n",
        "| temp90 | percentil de temperatura |\n",
        "| h10pix | humedad máxima en un pixel de 10m de radio |\n",
        "|h10pix90 | humedad máxima percentil en un pixel de 10m |\n",
        "| trees | porcentaje de cobertura de árboles |\n",
        "| trees90 | porcentaje de cobertura de ábroles percentil |\n",
        "| NoYes | Dengue observado |\n",
        "| Xmin | longitud mínima |\n",
        "| Xmax | longitud máxima |\n",
        "| Ymin | latitud mínima |\n",
        "| Ymax | latitud máxima |\n"
      ],
      "metadata": {
        "id": "5SzPIyC2Dpii"
      }
    },
    {
      "cell_type": "code",
      "source": [
        "X = dengue.drop(columns = \"NoYes\")"
      ],
      "metadata": {
        "id": "_XLwM6GEGNEv"
      },
      "execution_count": null,
      "outputs": []
    },
    {
      "cell_type": "code",
      "source": [
        "Y = dengue.loc[:,\"NoYes\"]"
      ],
      "metadata": {
        "id": "rGAipb6MGesy"
      },
      "execution_count": null,
      "outputs": []
    },
    {
      "cell_type": "code",
      "source": [
        "X_train, X_test, y_train, y_test = train_test_split(X, Y, test_size=0.25, random_state=42)"
      ],
      "metadata": {
        "id": "AGi7MzRnM-2B"
      },
      "execution_count": null,
      "outputs": []
    },
    {
      "cell_type": "code",
      "source": [
        "model = LogisticRegression()\n",
        "model"
      ],
      "metadata": {
        "id": "-TxYkhjlG-mz"
      },
      "execution_count": null,
      "outputs": []
    },
    {
      "cell_type": "code",
      "source": [
        "model.fit(X_train,y_train)"
      ],
      "metadata": {
        "id": "jMo-1S8rHVBe"
      },
      "execution_count": null,
      "outputs": []
    },
    {
      "cell_type": "code",
      "source": [
        "y_pred = model.predict(X_test)"
      ],
      "metadata": {
        "id": "UcpNBmERI6DI"
      },
      "execution_count": null,
      "outputs": []
    },
    {
      "cell_type": "markdown",
      "source": [
        "# Matriz de Confusión\n",
        "\n",
        "La matriz de confusión es una herramienta muy útil para valorar cómo de bueno es un modelo clasificación basado en aprendizaje automático. En particular, sirve para mostrar de forma explícita cuándo una clase es confundida con otra, lo cual nos, permite trabajar de forma separada con distintos tipos de error"
      ],
      "metadata": {
        "id": "kkfdA0SfYUQT"
      }
    },
    {
      "cell_type": "code",
      "source": [
        "from sklearn import metrics\n",
        "cnf_matrix = metrics.confusion_matrix(y_test, y_pred)\n",
        "cnf_matrix"
      ],
      "metadata": {
        "colab": {
          "base_uri": "https://localhost:8080/"
        },
        "id": "RasbmZnPNi-D",
        "outputId": "b421dd0c-3fd6-4ccc-8e34-e8a8f790a2f2"
      },
      "execution_count": null,
      "outputs": [
        {
          "output_type": "execute_result",
          "data": {
            "text/plain": [
              "array([[251,  61],\n",
              "       [ 31, 154]])"
            ]
          },
          "metadata": {},
          "execution_count": 63
        }
      ]
    },
    {
      "cell_type": "code",
      "source": [
        "import matplotlib.pyplot as plt\n",
        "import seaborn as sns\n",
        "import numpy as np\n",
        "class_names=[0,1] # name  of classes\n",
        "fig, ax = plt.subplots()\n",
        "tick_marks = np.arange(len(class_names))\n",
        "plt.xticks(tick_marks, class_names)\n",
        "plt.yticks(tick_marks, class_names)\n",
        "# create heatmap\n",
        "sns.heatmap(pd.DataFrame(cnf_matrix), annot=True, cmap=\"YlGnBu\" ,fmt='g')\n",
        "ax.xaxis.set_label_position(\"top\")\n",
        "plt.tight_layout()\n",
        "plt.title('Confusion matrix', y=1.1)\n",
        "plt.ylabel('Actual label')\n",
        "plt.xlabel('Predicted label')"
      ],
      "metadata": {
        "id": "GJo4T8o9Nwbg"
      },
      "execution_count": null,
      "outputs": []
    },
    {
      "cell_type": "code",
      "source": [
        "print(\"Exactitud:\",metrics.accuracy_score(y_test, y_pred))\n",
        "print(\"Precisión:\",metrics.precision_score(y_test, y_pred))"
      ],
      "metadata": {
        "id": "qVZOBKqRO4v-"
      },
      "execution_count": null,
      "outputs": []
    },
    {
      "cell_type": "markdown",
      "source": [
        "# El hiperparámetro ```C-value```"
      ],
      "metadata": {
        "id": "1tX-bK_hYJRx"
      }
    },
    {
      "cell_type": "code",
      "source": [
        "#C=100\n",
        "logisticregression100 = LogisticRegression(C=100,max_iter=1000).fit(X_train, y_train)"
      ],
      "metadata": {
        "id": "5tH6McDHPnri"
      },
      "execution_count": null,
      "outputs": []
    },
    {
      "cell_type": "code",
      "source": [
        "print(\"puntaje del modelo con el conjunto de entrenamiento: %f\" % logisticregression100.score(X_train, y_train))\n",
        "print(\"puntaje del modelo con el conjunto de prueba: %f\" % logisticregression100.score(X_test, y_test))"
      ],
      "metadata": {
        "id": "sYUAWEeWQPrT"
      },
      "execution_count": null,
      "outputs": []
    },
    {
      "cell_type": "code",
      "source": [
        "training_accuracy = []\n",
        "test_accuracy = []\n",
        "c_value = np.arange(0.1, 10, 0.1) #arreglo con valores para C desde 0.001 hasta 100, aumentando en 0.1\n",
        "# try c values from 0.001 to 100\n",
        "for i in c_value:\n",
        "  # build the model\n",
        "  model = LogisticRegression(C=i,max_iter=1000)\n",
        "  model.fit(X_train, y_train)\n",
        "  # almacena exactitud con grupo de entrenamiento\n",
        "  training_accuracy.append(model.score(X_train, y_train))\n",
        "  # almacena exactitud con grupo de prueba\n",
        "  test_accuracy.append(model.score(X_test, y_test))\n",
        "\n",
        "plt.plot(c_value, training_accuracy, label=\"entrenamiento\")\n",
        "plt.plot(c_value, test_accuracy, label=\"prueba\")\n",
        "plt.legend()"
      ],
      "metadata": {
        "id": "UrYefXTcQiDL"
      },
      "execution_count": null,
      "outputs": []
    },
    {
      "cell_type": "markdown",
      "source": [
        "# Regresión logística usando ```StatsModel```"
      ],
      "metadata": {
        "id": "IhZwC4DVX-jB"
      }
    },
    {
      "cell_type": "code",
      "source": [
        "import statsmodels.api as sm"
      ],
      "metadata": {
        "id": "8YopgH3qMs81"
      },
      "execution_count": null,
      "outputs": []
    },
    {
      "cell_type": "code",
      "source": [
        "X_train = sm.add_constant(X_train)\n",
        "modelsm = sm.Logit(y_train, X_train)\n",
        "results = modelsm.fit()"
      ],
      "metadata": {
        "id": "r8DufpIwWQOm"
      },
      "execution_count": null,
      "outputs": []
    },
    {
      "cell_type": "code",
      "source": [
        "print(results.summary())"
      ],
      "metadata": {
        "id": "y-lzm0PZWdGa"
      },
      "execution_count": null,
      "outputs": []
    },
    {
      "cell_type": "markdown",
      "source": [
        "# Cáncer de seno\n",
        "URL: [breast cancer](https://raw.githubusercontent.com/jrmaza/machine-learning/main/breast_cancer_dataset.csv)"
      ],
      "metadata": {
        "id": "ae8ZTvkfYyzA"
      }
    }
  ]
}